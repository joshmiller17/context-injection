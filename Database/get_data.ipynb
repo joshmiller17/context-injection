{
 "cells": [
  {
   "cell_type": "code",
   "execution_count": 1,
   "metadata": {},
   "outputs": [],
   "source": [
    "import pandas as pd"
   ]
  },
  {
   "cell_type": "code",
   "execution_count": 55,
   "metadata": {},
   "outputs": [],
   "source": [
    "csv1 = pd.read_csv(\"books_by_category/books_by_category.csv\", names=['id','book','category'])"
   ]
  },
  {
   "cell_type": "code",
   "execution_count": 3,
   "metadata": {},
   "outputs": [],
   "source": [
    "csv2 = pd.read_csv(\"books_by_category/books_by_category2.csv\", names=['id','book','category'])"
   ]
  },
  {
   "cell_type": "code",
   "execution_count": 56,
   "metadata": {},
   "outputs": [
    {
     "data": {
      "text/plain": [
       "61609"
      ]
     },
     "execution_count": 56,
     "metadata": {},
     "output_type": "execute_result"
    }
   ],
   "source": [
    "len(csv1)"
   ]
  },
  {
   "cell_type": "code",
   "execution_count": 5,
   "metadata": {},
   "outputs": [
    {
     "data": {
      "text/plain": [
       "39373"
      ]
     },
     "execution_count": 5,
     "metadata": {},
     "output_type": "execute_result"
    }
   ],
   "source": [
    "len(csv2)"
   ]
  },
  {
   "cell_type": "code",
   "execution_count": 57,
   "metadata": {},
   "outputs": [
    {
     "data": {
      "text/html": [
       "<div>\n",
       "<style scoped>\n",
       "    .dataframe tbody tr th:only-of-type {\n",
       "        vertical-align: middle;\n",
       "    }\n",
       "\n",
       "    .dataframe tbody tr th {\n",
       "        vertical-align: top;\n",
       "    }\n",
       "\n",
       "    .dataframe thead th {\n",
       "        text-align: right;\n",
       "    }\n",
       "</style>\n",
       "<table border=\"1\" class=\"dataframe\">\n",
       "  <thead>\n",
       "    <tr style=\"text-align: right;\">\n",
       "      <th></th>\n",
       "      <th>id</th>\n",
       "      <th>book</th>\n",
       "      <th>category</th>\n",
       "    </tr>\n",
       "  </thead>\n",
       "  <tbody>\n",
       "    <tr>\n",
       "      <th>61608</th>\n",
       "      <td>90177</td>\n",
       "      <td>Sport Innovation/BTS Tennis</td>\n",
       "      <td>Miscellaneous</td>\n",
       "    </tr>\n",
       "  </tbody>\n",
       "</table>\n",
       "</div>"
      ],
      "text/plain": [
       "          id                         book       category\n",
       "61608  90177  Sport Innovation/BTS Tennis  Miscellaneous"
      ]
     },
     "execution_count": 57,
     "metadata": {},
     "output_type": "execute_result"
    }
   ],
   "source": [
    "csv1[-1:]"
   ]
  },
  {
   "cell_type": "code",
   "execution_count": 7,
   "metadata": {},
   "outputs": [
    {
     "data": {
      "text/html": [
       "<div>\n",
       "<style scoped>\n",
       "    .dataframe tbody tr th:only-of-type {\n",
       "        vertical-align: middle;\n",
       "    }\n",
       "\n",
       "    .dataframe tbody tr th {\n",
       "        vertical-align: top;\n",
       "    }\n",
       "\n",
       "    .dataframe thead th {\n",
       "        text-align: right;\n",
       "    }\n",
       "</style>\n",
       "<table border=\"1\" class=\"dataframe\">\n",
       "  <thead>\n",
       "    <tr style=\"text-align: right;\">\n",
       "      <th></th>\n",
       "      <th>id</th>\n",
       "      <th>book</th>\n",
       "      <th>category</th>\n",
       "    </tr>\n",
       "  </thead>\n",
       "  <tbody>\n",
       "    <tr>\n",
       "      <th>120014</th>\n",
       "      <td>Chess Opening Theory/1. e4/1...e5/2. Nf3/2...N...</td>\n",
       "      <td>Miscellaneous</td>\n",
       "      <td>NaN</td>\n",
       "    </tr>\n",
       "  </tbody>\n",
       "</table>\n",
       "</div>"
      ],
      "text/plain": [
       "                                                       id           book  \\\n",
       "120014  Chess Opening Theory/1. e4/1...e5/2. Nf3/2...N...  Miscellaneous   \n",
       "\n",
       "       category  \n",
       "120014      NaN  "
      ]
     },
     "execution_count": 7,
     "metadata": {},
     "output_type": "execute_result"
    }
   ],
   "source": [
    "csv2[-1:]"
   ]
  },
  {
   "cell_type": "code",
   "execution_count": 58,
   "metadata": {},
   "outputs": [],
   "source": [
    "csv1.sort_values('id', inplace=True)"
   ]
  },
  {
   "cell_type": "code",
   "execution_count": 45,
   "metadata": {},
   "outputs": [
    {
     "data": {
      "text/html": [
       "<div>\n",
       "<style scoped>\n",
       "    .dataframe tbody tr th:only-of-type {\n",
       "        vertical-align: middle;\n",
       "    }\n",
       "\n",
       "    .dataframe tbody tr th {\n",
       "        vertical-align: top;\n",
       "    }\n",
       "\n",
       "    .dataframe thead th {\n",
       "        text-align: right;\n",
       "    }\n",
       "</style>\n",
       "<table border=\"1\" class=\"dataframe\">\n",
       "  <thead>\n",
       "    <tr style=\"text-align: right;\">\n",
       "      <th></th>\n",
       "      <th>id</th>\n",
       "    </tr>\n",
       "  </thead>\n",
       "  <tbody>\n",
       "    <tr>\n",
       "      <th>count</th>\n",
       "      <td>61609.000000</td>\n",
       "    </tr>\n",
       "    <tr>\n",
       "      <th>mean</th>\n",
       "      <td>43299.087325</td>\n",
       "    </tr>\n",
       "    <tr>\n",
       "      <th>std</th>\n",
       "      <td>25838.390392</td>\n",
       "    </tr>\n",
       "    <tr>\n",
       "      <th>min</th>\n",
       "      <td>1.000000</td>\n",
       "    </tr>\n",
       "    <tr>\n",
       "      <th>25%</th>\n",
       "      <td>21114.000000</td>\n",
       "    </tr>\n",
       "    <tr>\n",
       "      <th>50%</th>\n",
       "      <td>41950.000000</td>\n",
       "    </tr>\n",
       "    <tr>\n",
       "      <th>75%</th>\n",
       "      <td>64658.000000</td>\n",
       "    </tr>\n",
       "    <tr>\n",
       "      <th>max</th>\n",
       "      <td>90180.000000</td>\n",
       "    </tr>\n",
       "  </tbody>\n",
       "</table>\n",
       "</div>"
      ],
      "text/plain": [
       "                 id\n",
       "count  61609.000000\n",
       "mean   43299.087325\n",
       "std    25838.390392\n",
       "min        1.000000\n",
       "25%    21114.000000\n",
       "50%    41950.000000\n",
       "75%    64658.000000\n",
       "max    90180.000000"
      ]
     },
     "execution_count": 45,
     "metadata": {},
     "output_type": "execute_result"
    }
   ],
   "source": [
    "csv1.describe()"
   ]
  },
  {
   "cell_type": "code",
   "execution_count": 10,
   "metadata": {},
   "outputs": [
    {
     "data": {
      "text/html": [
       "<div>\n",
       "<style scoped>\n",
       "    .dataframe tbody tr th:only-of-type {\n",
       "        vertical-align: middle;\n",
       "    }\n",
       "\n",
       "    .dataframe tbody tr th {\n",
       "        vertical-align: top;\n",
       "    }\n",
       "\n",
       "    .dataframe thead th {\n",
       "        text-align: right;\n",
       "    }\n",
       "</style>\n",
       "<table border=\"1\" class=\"dataframe\">\n",
       "  <thead>\n",
       "    <tr style=\"text-align: right;\">\n",
       "      <th></th>\n",
       "      <th>id</th>\n",
       "      <th>book</th>\n",
       "      <th>category</th>\n",
       "    </tr>\n",
       "  </thead>\n",
       "  <tbody>\n",
       "    <tr>\n",
       "      <th>count</th>\n",
       "      <td>39372</td>\n",
       "      <td>39367</td>\n",
       "      <td>1139</td>\n",
       "    </tr>\n",
       "    <tr>\n",
       "      <th>unique</th>\n",
       "      <td>37105</td>\n",
       "      <td>617</td>\n",
       "      <td>355</td>\n",
       "    </tr>\n",
       "    <tr>\n",
       "      <th>top</th>\n",
       "      <td>A-level Computing 2009/AQA/Problem Solving</td>\n",
       "      <td>Computing</td>\n",
       "      <td>Computing</td>\n",
       "    </tr>\n",
       "    <tr>\n",
       "      <th>freq</th>\n",
       "      <td>177</td>\n",
       "      <td>9144</td>\n",
       "      <td>239</td>\n",
       "    </tr>\n",
       "  </tbody>\n",
       "</table>\n",
       "</div>"
      ],
      "text/plain": [
       "                                                id       book   category\n",
       "count                                        39372      39367       1139\n",
       "unique                                       37105        617        355\n",
       "top     A-level Computing 2009/AQA/Problem Solving  Computing  Computing\n",
       "freq                                           177       9144        239"
      ]
     },
     "execution_count": 10,
     "metadata": {},
     "output_type": "execute_result"
    }
   ],
   "source": [
    "csv2.describe()"
   ]
  },
  {
   "cell_type": "code",
   "execution_count": 11,
   "metadata": {},
   "outputs": [
    {
     "data": {
      "text/html": [
       "<div>\n",
       "<style scoped>\n",
       "    .dataframe tbody tr th:only-of-type {\n",
       "        vertical-align: middle;\n",
       "    }\n",
       "\n",
       "    .dataframe tbody tr th {\n",
       "        vertical-align: top;\n",
       "    }\n",
       "\n",
       "    .dataframe thead th {\n",
       "        text-align: right;\n",
       "    }\n",
       "</style>\n",
       "<table border=\"1\" class=\"dataframe\">\n",
       "  <thead>\n",
       "    <tr style=\"text-align: right;\">\n",
       "      <th></th>\n",
       "      <th>id</th>\n",
       "      <th>book</th>\n",
       "      <th>category</th>\n",
       "    </tr>\n",
       "  </thead>\n",
       "  <tbody>\n",
       "    <tr>\n",
       "      <th>60004</th>\n",
       "      <td>Computational chemistry/At the edge of Biology</td>\n",
       "      <td>Genomics and Proteomics</td>\n",
       "      <td>Science</td>\n",
       "    </tr>\n",
       "    <tr>\n",
       "      <th>60007</th>\n",
       "      <td>Computational chemistry/Drug Design</td>\n",
       "      <td>Science</td>\n",
       "      <td>NaN</td>\n",
       "    </tr>\n",
       "    <tr>\n",
       "      <th>60001</th>\n",
       "      <td>Complete Guide to essential Oils</td>\n",
       "      <td>Science</td>\n",
       "      <td>NaN</td>\n",
       "    </tr>\n",
       "    <tr>\n",
       "      <th>60003</th>\n",
       "      <td>Computational chemistry/Applications of molecu...</td>\n",
       "      <td>Science</td>\n",
       "      <td>NaN</td>\n",
       "    </tr>\n",
       "    <tr>\n",
       "      <th>60005</th>\n",
       "      <td>Computational chemistry/Continuum solvation mo...</td>\n",
       "      <td>Science</td>\n",
       "      <td>NaN</td>\n",
       "    </tr>\n",
       "  </tbody>\n",
       "</table>\n",
       "</div>"
      ],
      "text/plain": [
       "                                                      id  \\\n",
       "60004     Computational chemistry/At the edge of Biology   \n",
       "60007                Computational chemistry/Drug Design   \n",
       "60001                   Complete Guide to essential Oils   \n",
       "60003  Computational chemistry/Applications of molecu...   \n",
       "60005  Computational chemistry/Continuum solvation mo...   \n",
       "\n",
       "                           book category  \n",
       "60004   Genomics and Proteomics  Science  \n",
       "60007                   Science      NaN  \n",
       "60001                   Science      NaN  \n",
       "60003                   Science      NaN  \n",
       "60005                   Science      NaN  "
      ]
     },
     "execution_count": 11,
     "metadata": {},
     "output_type": "execute_result"
    }
   ],
   "source": [
    "csv2.head()"
   ]
  },
  {
   "cell_type": "code",
   "execution_count": 12,
   "metadata": {},
   "outputs": [
    {
     "data": {
      "text/html": [
       "<div>\n",
       "<style scoped>\n",
       "    .dataframe tbody tr th:only-of-type {\n",
       "        vertical-align: middle;\n",
       "    }\n",
       "\n",
       "    .dataframe tbody tr th {\n",
       "        vertical-align: top;\n",
       "    }\n",
       "\n",
       "    .dataframe thead th {\n",
       "        text-align: right;\n",
       "    }\n",
       "</style>\n",
       "<table border=\"1\" class=\"dataframe\">\n",
       "  <thead>\n",
       "    <tr style=\"text-align: right;\">\n",
       "      <th></th>\n",
       "      <th>id</th>\n",
       "      <th>book</th>\n",
       "      <th>category</th>\n",
       "    </tr>\n",
       "  </thead>\n",
       "  <tbody>\n",
       "    <tr>\n",
       "      <th>120010</th>\n",
       "      <td>Chess Opening Theory/1. e4/1...e5/2. Nf3/2...N...</td>\n",
       "      <td>Miscellaneous</td>\n",
       "      <td>NaN</td>\n",
       "    </tr>\n",
       "    <tr>\n",
       "      <th>120012</th>\n",
       "      <td>Chess Opening Theory/1. e4/1...e5/2. Nf3/2...N...</td>\n",
       "      <td>Miscellaneous</td>\n",
       "      <td>NaN</td>\n",
       "    </tr>\n",
       "    <tr>\n",
       "      <th>120013</th>\n",
       "      <td>Card Games/Agram</td>\n",
       "      <td>Miscellaneous</td>\n",
       "      <td>NaN</td>\n",
       "    </tr>\n",
       "    <tr>\n",
       "      <th>120015</th>\n",
       "      <td>Chess Opening Theory/1. e4/1...e5/2. Nf3/2...N...</td>\n",
       "      <td>Miscellaneous</td>\n",
       "      <td>NaN</td>\n",
       "    </tr>\n",
       "    <tr>\n",
       "      <th>120014</th>\n",
       "      <td>Chess Opening Theory/1. e4/1...e5/2. Nf3/2...N...</td>\n",
       "      <td>Miscellaneous</td>\n",
       "      <td>NaN</td>\n",
       "    </tr>\n",
       "  </tbody>\n",
       "</table>\n",
       "</div>"
      ],
      "text/plain": [
       "                                                       id           book  \\\n",
       "120010  Chess Opening Theory/1. e4/1...e5/2. Nf3/2...N...  Miscellaneous   \n",
       "120012  Chess Opening Theory/1. e4/1...e5/2. Nf3/2...N...  Miscellaneous   \n",
       "120013                                   Card Games/Agram  Miscellaneous   \n",
       "120015  Chess Opening Theory/1. e4/1...e5/2. Nf3/2...N...  Miscellaneous   \n",
       "120014  Chess Opening Theory/1. e4/1...e5/2. Nf3/2...N...  Miscellaneous   \n",
       "\n",
       "       category  \n",
       "120010      NaN  \n",
       "120012      NaN  \n",
       "120013      NaN  \n",
       "120015      NaN  \n",
       "120014      NaN  "
      ]
     },
     "execution_count": 12,
     "metadata": {},
     "output_type": "execute_result"
    }
   ],
   "source": [
    "csv2.tail()"
   ]
  },
  {
   "cell_type": "code",
   "execution_count": 13,
   "metadata": {},
   "outputs": [],
   "source": [
    "with open (\"books_by_category/books_by_category2.csv\", \"r\", encoding=\"utf-8\") as f:\n",
    "        lines = f.readlines()"
   ]
  },
  {
   "cell_type": "code",
   "execution_count": 14,
   "metadata": {},
   "outputs": [
    {
     "data": {
      "text/plain": [
       "'60004,Computational chemistry/At the edge of Biology, Genomics and Proteomics,Science\\n'"
      ]
     },
     "execution_count": 14,
     "metadata": {},
     "output_type": "execute_result"
    }
   ],
   "source": [
    "lines[0]"
   ]
  },
  {
   "cell_type": "code",
   "execution_count": 15,
   "metadata": {},
   "outputs": [
    {
     "data": {
      "text/plain": [
       "['60004',\n",
       " 'Computational chemistry/At the edge of Biology',\n",
       " ' Genomics and Proteomics',\n",
       " 'Science\\n']"
      ]
     },
     "execution_count": 15,
     "metadata": {},
     "output_type": "execute_result"
    }
   ],
   "source": [
    "lines[0].split(\",\")"
   ]
  },
  {
   "cell_type": "code",
   "execution_count": 16,
   "metadata": {},
   "outputs": [
    {
     "data": {
      "text/plain": [
       "60004"
      ]
     },
     "execution_count": 16,
     "metadata": {},
     "output_type": "execute_result"
    }
   ],
   "source": [
    "int(lines[0].split(\",\")[0])"
   ]
  },
  {
   "cell_type": "code",
   "execution_count": 17,
   "metadata": {},
   "outputs": [
    {
     "data": {
      "text/plain": [
       "'Computational chemistry/At the edge of Biology, Genomics and Proteomics'"
      ]
     },
     "execution_count": 17,
     "metadata": {},
     "output_type": "execute_result"
    }
   ],
   "source": [
    "\",\".join(lines[0].split(\",\")[1:-1])"
   ]
  },
  {
   "cell_type": "code",
   "execution_count": 18,
   "metadata": {},
   "outputs": [
    {
     "data": {
      "text/plain": [
       "'Science'"
      ]
     },
     "execution_count": 18,
     "metadata": {},
     "output_type": "execute_result"
    }
   ],
   "source": [
    "lines[0].split(\",\")[-1][:-1]"
   ]
  },
  {
   "cell_type": "code",
   "execution_count": 19,
   "metadata": {},
   "outputs": [
    {
     "data": {
      "text/plain": [
       "39373"
      ]
     },
     "execution_count": 19,
     "metadata": {},
     "output_type": "execute_result"
    }
   ],
   "source": [
    "len(lines)"
   ]
  },
  {
   "cell_type": "code",
   "execution_count": 30,
   "metadata": {},
   "outputs": [],
   "source": [
    "for i,line in enumerate(lines):\n",
    "    if not line.split(\",\")[0].isdigit():\n",
    "        print(i,line)"
   ]
  },
  {
   "cell_type": "code",
   "execution_count": 21,
   "metadata": {},
   "outputs": [],
   "source": [
    "lines.remove(lines[1401])"
   ]
  },
  {
   "cell_type": "code",
   "execution_count": 23,
   "metadata": {},
   "outputs": [
    {
     "data": {
      "text/plain": [
       "'Installing Applications,Computing\\n'"
      ]
     },
     "execution_count": 23,
     "metadata": {},
     "output_type": "execute_result"
    }
   ],
   "source": [
    "lines[2037]"
   ]
  },
  {
   "cell_type": "code",
   "execution_count": 24,
   "metadata": {},
   "outputs": [],
   "source": [
    "lines[2037] = '63217,'+lines[2037]"
   ]
  },
  {
   "cell_type": "code",
   "execution_count": 25,
   "metadata": {},
   "outputs": [
    {
     "data": {
      "text/plain": [
       "'63217,Installing Applications,Computing\\n'"
      ]
     },
     "execution_count": 25,
     "metadata": {},
     "output_type": "execute_result"
    }
   ],
   "source": [
    "lines[2037]"
   ]
  },
  {
   "cell_type": "code",
   "execution_count": 27,
   "metadata": {},
   "outputs": [],
   "source": [
    "lines.remove(lines[7484])"
   ]
  },
  {
   "cell_type": "code",
   "execution_count": 29,
   "metadata": {},
   "outputs": [],
   "source": [
    "lines.remove(lines[20498])"
   ]
  },
  {
   "cell_type": "code",
   "execution_count": 31,
   "metadata": {},
   "outputs": [
    {
     "name": "stdout",
     "output_type": "stream",
     "text": [
      "CPU times: user 3min 13s, sys: 128 ms, total: 3min 13s\n",
      "Wall time: 3min 13s\n"
     ]
    }
   ],
   "source": [
    "%%time\n",
    "\n",
    "df = pd.DataFrame(columns=('id', 'book', 'category'))\n",
    "for i, line in enumerate(lines):\n",
    "    df.loc[i] = [int(line.split(\",\")[0]), \",\".join(line.split(\",\")[1:-1]), line.split(\",\")[-1][:-1]]"
   ]
  },
  {
   "cell_type": "code",
   "execution_count": 32,
   "metadata": {},
   "outputs": [
    {
     "data": {
      "text/html": [
       "<div>\n",
       "<style scoped>\n",
       "    .dataframe tbody tr th:only-of-type {\n",
       "        vertical-align: middle;\n",
       "    }\n",
       "\n",
       "    .dataframe tbody tr th {\n",
       "        vertical-align: top;\n",
       "    }\n",
       "\n",
       "    .dataframe thead th {\n",
       "        text-align: right;\n",
       "    }\n",
       "</style>\n",
       "<table border=\"1\" class=\"dataframe\">\n",
       "  <thead>\n",
       "    <tr style=\"text-align: right;\">\n",
       "      <th></th>\n",
       "      <th>id</th>\n",
       "      <th>book</th>\n",
       "      <th>category</th>\n",
       "    </tr>\n",
       "  </thead>\n",
       "  <tbody>\n",
       "    <tr>\n",
       "      <th>count</th>\n",
       "      <td>39370</td>\n",
       "      <td>39370</td>\n",
       "      <td>39370</td>\n",
       "    </tr>\n",
       "    <tr>\n",
       "      <th>unique</th>\n",
       "      <td>39370</td>\n",
       "      <td>37779</td>\n",
       "      <td>25</td>\n",
       "    </tr>\n",
       "    <tr>\n",
       "      <th>top</th>\n",
       "      <td>65518</td>\n",
       "      <td>Skateboard Alphabet Coloring Pages</td>\n",
       "      <td>Computing</td>\n",
       "    </tr>\n",
       "    <tr>\n",
       "      <th>freq</th>\n",
       "      <td>1</td>\n",
       "      <td>6</td>\n",
       "      <td>9763</td>\n",
       "    </tr>\n",
       "  </tbody>\n",
       "</table>\n",
       "</div>"
      ],
      "text/plain": [
       "           id                                book   category\n",
       "count   39370                               39370      39370\n",
       "unique  39370                               37779         25\n",
       "top     65518  Skateboard Alphabet Coloring Pages  Computing\n",
       "freq        1                                   6       9763"
      ]
     },
     "execution_count": 32,
     "metadata": {},
     "output_type": "execute_result"
    }
   ],
   "source": [
    "df.describe()"
   ]
  },
  {
   "cell_type": "code",
   "execution_count": 33,
   "metadata": {},
   "outputs": [
    {
     "data": {
      "text/html": [
       "<div>\n",
       "<style scoped>\n",
       "    .dataframe tbody tr th:only-of-type {\n",
       "        vertical-align: middle;\n",
       "    }\n",
       "\n",
       "    .dataframe tbody tr th {\n",
       "        vertical-align: top;\n",
       "    }\n",
       "\n",
       "    .dataframe thead th {\n",
       "        text-align: right;\n",
       "    }\n",
       "</style>\n",
       "<table border=\"1\" class=\"dataframe\">\n",
       "  <thead>\n",
       "    <tr style=\"text-align: right;\">\n",
       "      <th></th>\n",
       "      <th>id</th>\n",
       "      <th>book</th>\n",
       "      <th>category</th>\n",
       "    </tr>\n",
       "  </thead>\n",
       "  <tbody>\n",
       "    <tr>\n",
       "      <th>39365</th>\n",
       "      <td>120010</td>\n",
       "      <td>Chess Opening Theory/1. e4/1...e5/2. Nf3/2...N...</td>\n",
       "      <td>Miscellaneous</td>\n",
       "    </tr>\n",
       "    <tr>\n",
       "      <th>39366</th>\n",
       "      <td>120012</td>\n",
       "      <td>Chess Opening Theory/1. e4/1...e5/2. Nf3/2...N...</td>\n",
       "      <td>Miscellaneous</td>\n",
       "    </tr>\n",
       "    <tr>\n",
       "      <th>39367</th>\n",
       "      <td>120013</td>\n",
       "      <td>Card Games/Agram</td>\n",
       "      <td>Miscellaneous</td>\n",
       "    </tr>\n",
       "    <tr>\n",
       "      <th>39368</th>\n",
       "      <td>120015</td>\n",
       "      <td>Chess Opening Theory/1. e4/1...e5/2. Nf3/2...N...</td>\n",
       "      <td>Miscellaneous</td>\n",
       "    </tr>\n",
       "    <tr>\n",
       "      <th>39369</th>\n",
       "      <td>120014</td>\n",
       "      <td>Chess Opening Theory/1. e4/1...e5/2. Nf3/2...N...</td>\n",
       "      <td>Miscellaneou</td>\n",
       "    </tr>\n",
       "  </tbody>\n",
       "</table>\n",
       "</div>"
      ],
      "text/plain": [
       "           id                                               book  \\\n",
       "39365  120010  Chess Opening Theory/1. e4/1...e5/2. Nf3/2...N...   \n",
       "39366  120012  Chess Opening Theory/1. e4/1...e5/2. Nf3/2...N...   \n",
       "39367  120013                                   Card Games/Agram   \n",
       "39368  120015  Chess Opening Theory/1. e4/1...e5/2. Nf3/2...N...   \n",
       "39369  120014  Chess Opening Theory/1. e4/1...e5/2. Nf3/2...N...   \n",
       "\n",
       "            category  \n",
       "39365  Miscellaneous  \n",
       "39366  Miscellaneous  \n",
       "39367  Miscellaneous  \n",
       "39368  Miscellaneous  \n",
       "39369   Miscellaneou  "
      ]
     },
     "execution_count": 33,
     "metadata": {},
     "output_type": "execute_result"
    }
   ],
   "source": [
    "df.tail()"
   ]
  },
  {
   "cell_type": "code",
   "execution_count": 34,
   "metadata": {},
   "outputs": [
    {
     "data": {
      "text/plain": [
       "False"
      ]
     },
     "execution_count": 34,
     "metadata": {},
     "output_type": "execute_result"
    }
   ],
   "source": [
    "df.isnull().values.any()"
   ]
  },
  {
   "cell_type": "code",
   "execution_count": 59,
   "metadata": {},
   "outputs": [
    {
     "data": {
      "text/plain": [
       "True"
      ]
     },
     "execution_count": 59,
     "metadata": {},
     "output_type": "execute_result"
    }
   ],
   "source": [
    "csv1.isnull().values.any()"
   ]
  },
  {
   "cell_type": "code",
   "execution_count": 64,
   "metadata": {},
   "outputs": [],
   "source": [
    "nan_rows = csv1[csv1.isnull().any(1)]"
   ]
  },
  {
   "cell_type": "code",
   "execution_count": 65,
   "metadata": {},
   "outputs": [
    {
     "data": {
      "text/html": [
       "<div>\n",
       "<style scoped>\n",
       "    .dataframe tbody tr th:only-of-type {\n",
       "        vertical-align: middle;\n",
       "    }\n",
       "\n",
       "    .dataframe tbody tr th {\n",
       "        vertical-align: top;\n",
       "    }\n",
       "\n",
       "    .dataframe thead th {\n",
       "        text-align: right;\n",
       "    }\n",
       "</style>\n",
       "<table border=\"1\" class=\"dataframe\">\n",
       "  <thead>\n",
       "    <tr style=\"text-align: right;\">\n",
       "      <th></th>\n",
       "      <th>id</th>\n",
       "      <th>book</th>\n",
       "      <th>category</th>\n",
       "    </tr>\n",
       "  </thead>\n",
       "  <tbody>\n",
       "  </tbody>\n",
       "</table>\n",
       "</div>"
      ],
      "text/plain": [
       "Empty DataFrame\n",
       "Columns: [id, book, category]\n",
       "Index: []"
      ]
     },
     "execution_count": 65,
     "metadata": {},
     "output_type": "execute_result"
    }
   ],
   "source": [
    "nan_rows"
   ]
  },
  {
   "cell_type": "code",
   "execution_count": 62,
   "metadata": {},
   "outputs": [],
   "source": [
    "csv1.at[3486, 'category'] = 'Computing'"
   ]
  },
  {
   "cell_type": "code",
   "execution_count": 63,
   "metadata": {},
   "outputs": [],
   "source": [
    "csv1.at[56121, 'category'] = 'Humanities'"
   ]
  },
  {
   "cell_type": "code",
   "execution_count": 66,
   "metadata": {},
   "outputs": [],
   "source": [
    "df.sort_values('id', inplace=True)"
   ]
  },
  {
   "cell_type": "code",
   "execution_count": 93,
   "metadata": {},
   "outputs": [],
   "source": [
    "csv = pd.concat([csv1, df])"
   ]
  },
  {
   "cell_type": "code",
   "execution_count": 94,
   "metadata": {},
   "outputs": [
    {
     "data": {
      "text/plain": [
       "100979"
      ]
     },
     "execution_count": 94,
     "metadata": {},
     "output_type": "execute_result"
    }
   ],
   "source": [
    "len(csv)"
   ]
  },
  {
   "cell_type": "code",
   "execution_count": 95,
   "metadata": {},
   "outputs": [
    {
     "data": {
      "text/plain": [
       "100979"
      ]
     },
     "execution_count": 95,
     "metadata": {},
     "output_type": "execute_result"
    }
   ],
   "source": [
    "len(csv1) + len(df) "
   ]
  },
  {
   "cell_type": "code",
   "execution_count": 96,
   "metadata": {},
   "outputs": [
    {
     "data": {
      "text/plain": [
       "83186"
      ]
     },
     "execution_count": 96,
     "metadata": {},
     "output_type": "execute_result"
    }
   ],
   "source": [
    "len(csv.drop_duplicates(['id']))"
   ]
  },
  {
   "cell_type": "code",
   "execution_count": 97,
   "metadata": {},
   "outputs": [],
   "source": [
    "csv.drop_duplicates(['id'],inplace=True)"
   ]
  },
  {
   "cell_type": "code",
   "execution_count": 98,
   "metadata": {},
   "outputs": [
    {
     "data": {
      "text/html": [
       "<div>\n",
       "<style scoped>\n",
       "    .dataframe tbody tr th:only-of-type {\n",
       "        vertical-align: middle;\n",
       "    }\n",
       "\n",
       "    .dataframe tbody tr th {\n",
       "        vertical-align: top;\n",
       "    }\n",
       "\n",
       "    .dataframe thead th {\n",
       "        text-align: right;\n",
       "    }\n",
       "</style>\n",
       "<table border=\"1\" class=\"dataframe\">\n",
       "  <thead>\n",
       "    <tr style=\"text-align: right;\">\n",
       "      <th></th>\n",
       "      <th>id</th>\n",
       "      <th>book</th>\n",
       "      <th>category</th>\n",
       "    </tr>\n",
       "  </thead>\n",
       "  <tbody>\n",
       "    <tr>\n",
       "      <th>43074</th>\n",
       "      <td>60002</td>\n",
       "      <td>Computational chemistry</td>\n",
       "      <td>Science</td>\n",
       "    </tr>\n",
       "  </tbody>\n",
       "</table>\n",
       "</div>"
      ],
      "text/plain": [
       "          id                     book category\n",
       "43074  60002  Computational chemistry  Science"
      ]
     },
     "execution_count": 98,
     "metadata": {},
     "output_type": "execute_result"
    }
   ],
   "source": [
    "csv[csv['id']==60002]"
   ]
  },
  {
   "cell_type": "code",
   "execution_count": 99,
   "metadata": {},
   "outputs": [
    {
     "data": {
      "text/html": [
       "<div>\n",
       "<style scoped>\n",
       "    .dataframe tbody tr th:only-of-type {\n",
       "        vertical-align: middle;\n",
       "    }\n",
       "\n",
       "    .dataframe tbody tr th {\n",
       "        vertical-align: top;\n",
       "    }\n",
       "\n",
       "    .dataframe thead th {\n",
       "        text-align: right;\n",
       "    }\n",
       "</style>\n",
       "<table border=\"1\" class=\"dataframe\">\n",
       "  <thead>\n",
       "    <tr style=\"text-align: right;\">\n",
       "      <th></th>\n",
       "      <th>id</th>\n",
       "      <th>book</th>\n",
       "      <th>category</th>\n",
       "    </tr>\n",
       "  </thead>\n",
       "  <tbody>\n",
       "    <tr>\n",
       "      <th>count</th>\n",
       "      <td>83186</td>\n",
       "      <td>83186</td>\n",
       "      <td>83186</td>\n",
       "    </tr>\n",
       "    <tr>\n",
       "      <th>unique</th>\n",
       "      <td>83186</td>\n",
       "      <td>78237</td>\n",
       "      <td>712</td>\n",
       "    </tr>\n",
       "    <tr>\n",
       "      <th>top</th>\n",
       "      <td>120015</td>\n",
       "      <td>A-level Computing 2009/AQA/Problem Solving</td>\n",
       "      <td>Computing</td>\n",
       "    </tr>\n",
       "    <tr>\n",
       "      <th>freq</th>\n",
       "      <td>1</td>\n",
       "      <td>140</td>\n",
       "      <td>22505</td>\n",
       "    </tr>\n",
       "  </tbody>\n",
       "</table>\n",
       "</div>"
      ],
      "text/plain": [
       "            id                                        book   category\n",
       "count    83186                                       83186      83186\n",
       "unique   83186                                       78237        712\n",
       "top     120015  A-level Computing 2009/AQA/Problem Solving  Computing\n",
       "freq         1                                         140      22505"
      ]
     },
     "execution_count": 99,
     "metadata": {},
     "output_type": "execute_result"
    }
   ],
   "source": [
    "csv.describe()"
   ]
  },
  {
   "cell_type": "code",
   "execution_count": 101,
   "metadata": {},
   "outputs": [],
   "source": [
    "#csv.to_csv(\"csv.csv\")"
   ]
  },
  {
   "cell_type": "code",
   "execution_count": 103,
   "metadata": {},
   "outputs": [
    {
     "data": {
      "text/plain": [
       "False"
      ]
     },
     "execution_count": 103,
     "metadata": {},
     "output_type": "execute_result"
    }
   ],
   "source": [
    "csv.duplicated(['id','book','category']).values.any()"
   ]
  },
  {
   "cell_type": "markdown",
   "metadata": {},
   "source": [
    "<hr>"
   ]
  },
  {
   "cell_type": "code",
   "execution_count": 105,
   "metadata": {},
   "outputs": [
    {
     "name": "stdout",
     "output_type": "stream",
     "text": [
      "Copied {} files. 928\n"
     ]
    }
   ],
   "source": [
    "import os\n",
    "import shutil\n",
    "cwd = os.getcwd()\n",
    "\n",
    "for root, dirs, files in os.walk(os.path.join(cwd, 'extracted/')):  \n",
    "    for i,file in enumerate(files):\n",
    "        path_file = os.path.join(root,file)\n",
    "        shutil.move(path_file, os.path.join(cwd, 'allbooks/'))\n",
    "print(\"Copied {} files.\", i)        "
   ]
  },
  {
   "cell_type": "code",
   "execution_count": 107,
   "metadata": {},
   "outputs": [],
   "source": [
    "data = csv[['id','book','category']]"
   ]
  },
  {
   "cell_type": "code",
   "execution_count": 108,
   "metadata": {},
   "outputs": [
    {
     "data": {
      "text/html": [
       "<div>\n",
       "<style scoped>\n",
       "    .dataframe tbody tr th:only-of-type {\n",
       "        vertical-align: middle;\n",
       "    }\n",
       "\n",
       "    .dataframe tbody tr th {\n",
       "        vertical-align: top;\n",
       "    }\n",
       "\n",
       "    .dataframe thead th {\n",
       "        text-align: right;\n",
       "    }\n",
       "</style>\n",
       "<table border=\"1\" class=\"dataframe\">\n",
       "  <thead>\n",
       "    <tr style=\"text-align: right;\">\n",
       "      <th></th>\n",
       "      <th>id</th>\n",
       "      <th>book</th>\n",
       "      <th>category</th>\n",
       "    </tr>\n",
       "  </thead>\n",
       "  <tbody>\n",
       "    <tr>\n",
       "      <th>0</th>\n",
       "      <td>1</td>\n",
       "      <td>Organic Chemistry/Cover</td>\n",
       "      <td>Science</td>\n",
       "    </tr>\n",
       "    <tr>\n",
       "      <th>1</th>\n",
       "      <td>2</td>\n",
       "      <td>Organic Chemistry/Foundational concepts of org...</td>\n",
       "      <td>Science</td>\n",
       "    </tr>\n",
       "    <tr>\n",
       "      <th>2</th>\n",
       "      <td>3</td>\n",
       "      <td>Organic Chemistry/Introduction to reactions</td>\n",
       "      <td>Science</td>\n",
       "    </tr>\n",
       "    <tr>\n",
       "      <th>3</th>\n",
       "      <td>4</td>\n",
       "      <td>Organic Chemistry/Alkenes</td>\n",
       "      <td>Science</td>\n",
       "    </tr>\n",
       "    <tr>\n",
       "      <th>4</th>\n",
       "      <td>5</td>\n",
       "      <td>Organic Chemistry/Chirality</td>\n",
       "      <td>Science</td>\n",
       "    </tr>\n",
       "  </tbody>\n",
       "</table>\n",
       "</div>"
      ],
      "text/plain": [
       "  id                                               book category\n",
       "0  1                            Organic Chemistry/Cover  Science\n",
       "1  2  Organic Chemistry/Foundational concepts of org...  Science\n",
       "2  3        Organic Chemistry/Introduction to reactions  Science\n",
       "3  4                          Organic Chemistry/Alkenes  Science\n",
       "4  5                        Organic Chemistry/Chirality  Science"
      ]
     },
     "execution_count": 108,
     "metadata": {},
     "output_type": "execute_result"
    }
   ],
   "source": [
    "data.head()"
   ]
  },
  {
   "cell_type": "code",
   "execution_count": 110,
   "metadata": {
    "scrolled": true
   },
   "outputs": [
    {
     "data": {
      "text/plain": [
       "712"
      ]
     },
     "execution_count": 110,
     "metadata": {},
     "output_type": "execute_result"
    }
   ],
   "source": [
    "len(data.category.unique())"
   ]
  },
  {
   "cell_type": "code",
   "execution_count": 111,
   "metadata": {},
   "outputs": [
    {
     "data": {
      "text/plain": [
       "count         83686\n",
       "unique          712\n",
       "top       Computing\n",
       "freq          22816\n",
       "Name: category, dtype: object"
      ]
     },
     "execution_count": 111,
     "metadata": {},
     "output_type": "execute_result"
    }
   ],
   "source": [
    "data.category.describe()"
   ]
  },
  {
   "cell_type": "code",
   "execution_count": 117,
   "metadata": {},
   "outputs": [],
   "source": [
    "from collections import Counter\n",
    "count = Counter()"
   ]
  },
  {
   "cell_type": "code",
   "execution_count": 118,
   "metadata": {},
   "outputs": [],
   "source": [
    "for cat in data.category.unique():\n",
    "    count[cat] = len(data[data['category']==cat])"
   ]
  },
  {
   "cell_type": "code",
   "execution_count": 119,
   "metadata": {},
   "outputs": [
    {
     "data": {
      "text/plain": [
       "Counter({\" ''Apology''\": 2,\n",
       "         \" ''Gorgias''\": 2,\n",
       "         \" ''Phadreus''\": 1,\n",
       "         \" (ou l'Optimisme)\": 1,\n",
       "         ' -x': 1,\n",
       "         ' 034 and 035)': 1,\n",
       "         ' 1868-present': 1,\n",
       "         ' 1872 to present': 1,\n",
       "         ' 1890-1945': 1,\n",
       "         ' 2': 1,\n",
       "         ' 2007': 9,\n",
       "         ' 2008': 1,\n",
       "         ' 2nd form': 1,\n",
       "         ' A Little of That': 1,\n",
       "         ' AVX2': 1,\n",
       "         ' Abbreviations and Symbols': 1,\n",
       "         ' Access': 2,\n",
       "         ' Account Numbers': 1,\n",
       "         ' Advanced': 1,\n",
       "         ' Africa': 1,\n",
       "         ' Algebras and σ-algebras': 1,\n",
       "         ' Amphibians': 1,\n",
       "         ' An Introductory Guide': 1,\n",
       "         ' Analysis': 1,\n",
       "         ' Answering the Big Questions of Life': 2,\n",
       "         ' Answering the Big Questions of Life/About the Book': 1,\n",
       "         ' Answering the Big Questions of Life/Atoms and Molecules': 1,\n",
       "         ' Answering the Big Questions of Life/CellLab-TG': 1,\n",
       "         ' Answering the Big Questions of Life/Cells': 1,\n",
       "         ' Answering the Big Questions of Life/Cells and the Microscope': 1,\n",
       "         ' Answering the Big Questions of Life/Cover': 1,\n",
       "         ' Answering the Big Questions of Life/Crystalization lab': 1,\n",
       "         ' Answering the Big Questions of Life/DNA': 1,\n",
       "         ' Answering the Big Questions of Life/DNA2': 1,\n",
       "         ' Answering the Big Questions of Life/Fermentation': 1,\n",
       "         ' Answering the Big Questions of Life/Fermentation student lab': 1,\n",
       "         ' Answering the Big Questions of Life/Foreword': 1,\n",
       "         ' Answering the Big Questions of Life/Index': 1,\n",
       "         ' Answering the Big Questions of Life/Introduction': 1,\n",
       "         ' Answering the Big Questions of Life/Metabolism': 1,\n",
       "         ' Answering the Big Questions of Life/Metabolism/Metabolism2': 1,\n",
       "         ' Answering the Big Questions of Life/Metabolism/Metabolism3': 1,\n",
       "         ' Answering the Big Questions of Life/Microscopes': 1,\n",
       "         ' Answering the Big Questions of Life/Mitosis': 1,\n",
       "         ' Answering the Big Questions of Life/Organic Chemistry': 1,\n",
       "         ' Answering the Big Questions of Life/Organic chem': 1,\n",
       "         ' Answering the Big Questions of Life/Osmosis': 1,\n",
       "         ' Answering the Big Questions of Life/Osmosis lab': 1,\n",
       "         ' Answering the Big Questions of Life/Photosynthesis': 1,\n",
       "         ' Answering the Big Questions of Life/Photosynthesis/Photosynthesis2': 1,\n",
       "         ' Answering the Big Questions of Life/Photosynthesis/Photosynthesis3': 1,\n",
       "         ' Answering the Big Questions of Life/Plants': 1,\n",
       "         ' Answering the Big Questions of Life/Taxonomy': 1,\n",
       "         ' Answering the Big Questions of Life/cell division': 1,\n",
       "         ' Answering the Big Questions of Life/cell division2': 1,\n",
       "         ' Answering the Big Questions of Life/cell division3': 1,\n",
       "         ' Answering the Big Questions of Life/classification': 1,\n",
       "         ' Answering the Big Questions of Life/evolve3': 1,\n",
       "         ' Answering the Big Questions of Life/genetics1': 1,\n",
       "         ' Answering the Big Questions of Life/genetics2': 1,\n",
       "         ' Answering the Big Questions of Life/genetics3': 1,\n",
       "         ' Answering the Big Questions of Life/organelles': 1,\n",
       "         ' Answering the Big Questions of Life/osmosis': 1,\n",
       "         ' Answering the Big Questions of Life/reproduction1': 1,\n",
       "         ' Answering the Big Questions of Life/reproduction3': 1,\n",
       "         ' Appreciation': 1,\n",
       "         ' Archea and Eukaryotes': 1,\n",
       "         ' Arithmology': 1,\n",
       "         ' Assessing and Producing': 1,\n",
       "         ' Assistantships': 1,\n",
       "         ' Background Noise': 1,\n",
       "         ' Background Reading': 1,\n",
       "         ' Bases and pH': 1,\n",
       "         ' Basic': 1,\n",
       "         ' Beef and Feedlots': 1,\n",
       "         ' Bevel': 1,\n",
       "         ' Binormal Line': 2,\n",
       "         ' Biography': 3,\n",
       "         ' Bonds and Groups/Atoms and Reactions/Acids': 1,\n",
       "         ' Bonds and Groups/Atoms and Reactions/Atoms': 1,\n",
       "         ' Bonds and Groups/Atoms and Reactions/Moles and Equations': 1,\n",
       "         ' Bones': 1,\n",
       "         ' Bose Corporation': 1,\n",
       "         ' Boxes and Tables': 1,\n",
       "         ' C. - Symphony in D minor': 1,\n",
       "         ' CAMERA': 1,\n",
       "         ' CLEARSCREEN': 1,\n",
       "         ' CLS': 1,\n",
       "         ' CPU usage and timers': 1,\n",
       "         ' Cassiopeia': 1,\n",
       "         ' Categories': 1,\n",
       "         ' Ceasefire and Refugees': 1,\n",
       "         ' Certiorari': 1,\n",
       "         ' Change': 2,\n",
       "         ' Chat-rooms': 1,\n",
       "         ' Chemical and Atomic Workers International Union': 1,\n",
       "         ' Chords and Diameters': 1,\n",
       "         ' Closure': 1,\n",
       "         ' Cohesion': 1,\n",
       "         ' Communication': 4,\n",
       "         ' Communication and Record-keeping': 1,\n",
       "         ' Communism': 1,\n",
       "         ' Community': 1,\n",
       "         ' Comparison and Compatibility': 2,\n",
       "         ' Comparison and Compatibility/Architecture': 1,\n",
       "         ' Comparison and Compatibility/Architecture/DB2': 1,\n",
       "         ' Comparison and Compatibility/Architecture/Oracle': 1,\n",
       "         ' Comparison and Compatibility/Architecture/Overview': 1,\n",
       "         ' Comparison and Compatibility/Architecture/Summary': 1,\n",
       "         ' Comparison and Compatibility/Database Scaling': 1,\n",
       "         ' Comparison and Compatibility/Database Scaling/Oracle': 1,\n",
       "         ' Comparison and Compatibility/Database Scaling/Replication': 1,\n",
       "         ' Comparison and Compatibility/Database Scaling/Shared Architectures': 1,\n",
       "         ' Comparison and Compatibility/Introduction': 1,\n",
       "         ' Comparison and Compatibility/PL/SQL Compatibility': 1,\n",
       "         ' Comparison and Compatibility/Process Model': 1,\n",
       "         ' Comparison and Compatibility/Process Model/Consistency': 1,\n",
       "         ' Comparison and Compatibility/Process Model/Consistency/DB2': 1,\n",
       "         ' Comparison and Compatibility/Process Model/Consistency/Oracle': 1,\n",
       "         ' Comparison and Compatibility/Process Model/Consistency/Summary': 1,\n",
       "         ' Comparison and Compatibility/Process Model/Locking': 1,\n",
       "         ' Comparison and Compatibility/Process Model/Locking/DB2': 1,\n",
       "         ' Comparison and Compatibility/Process Model/Locking/Oracle': 1,\n",
       "         ' Comparison and Compatibility/Process Model/Locking/Summary': 1,\n",
       "         ' Comparison and Compatibility/Process Model/Logging': 1,\n",
       "         ' Comparison and Compatibility/Process Model/Logging/DB2': 1,\n",
       "         ' Comparison and Compatibility/Process Model/Logging/Oracle': 1,\n",
       "         ' Comparison and Compatibility/Process Model/Logging/Summary': 1,\n",
       "         ' Comparison and Compatibility/Process Model/Optimizer': 1,\n",
       "         ' Comparison and Compatibility/Process Model/Optimizer/DB2': 1,\n",
       "         ' Comparison and Compatibility/Process Model/Optimizer/Oracle': 1,\n",
       "         ' Comparison and Compatibility/Process Model/Optimizer/Summary': 1,\n",
       "         ' Comparison and Compatibility/Process Model/Transaction Management': 1,\n",
       "         ' Comparison and Compatibility/Process Model/Transaction Management/Oracle': 1,\n",
       "         ' Comparison and Compatibility/Process Model/Transaction Management/Summary': 1,\n",
       "         ' Comparison and Compatibility/Storage Model': 1,\n",
       "         ' Comparison and Compatibility/Storage Model/Data Types': 1,\n",
       "         ' Comparison and Compatibility/Storage Model/Data Types/DB2': 1,\n",
       "         ' Comparison and Compatibility/Storage Model/Data Types/Oracle': 1,\n",
       "         ' Comparison and Compatibility/Storage Model/Data Types/Summary': 1,\n",
       "         ' Comparison and Compatibility/Storage Model/Indexes': 1,\n",
       "         ' Comparison and Compatibility/Storage Model/Indexes/DB2': 1,\n",
       "         ' Comparison and Compatibility/Storage Model/Indexes/Oracle': 1,\n",
       "         ' Comparison and Compatibility/Storage Model/Indexes/Summary': 1,\n",
       "         ' Comparison and Compatibility/Storage Model/Physical Storage/DB2': 1,\n",
       "         ' Comparison and Compatibility/Storage Model/Physical Storage/Oracle': 1,\n",
       "         ' Comparison and Compatibility/Storage Model/Physical Storage/Summary': 1,\n",
       "         ' Comparison and Compatibility/Storage Model/Tables': 1,\n",
       "         ' Comparison and Compatibility/Storage Model/Tables/DB2': 1,\n",
       "         ' Comparison and Compatibility/Storage Model/Tables/Oracle': 1,\n",
       "         ' Conditionals': 1,\n",
       "         ' Configuration': 11,\n",
       "         ' Conjunctions': 2,\n",
       "         ' Conservation and Recycling': 1,\n",
       "         ' Continued': 2,\n",
       "         ' Contributions and Bugs': 1,\n",
       "         ' Conversions And Revelations': 1,\n",
       "         ' Cosine and Tangent': 1,\n",
       "         ' Criticism': 1,\n",
       "         ' Curl and Divergence': 2,\n",
       "         ' Current': 2,\n",
       "         ' Current situation and SWOT': 1,\n",
       "         ' Declarations and Constants': 1,\n",
       "         ' Delirium': 2,\n",
       "         ' Dem. Rep. (North)': 1,\n",
       "         ' Democratic Republic': 1,\n",
       "         ' Design and Implementation/Introduction': 1,\n",
       "         ' Deutsches Reich': 1,\n",
       "         ' Discussion Lists': 1,\n",
       "         ' Displacement': 1,\n",
       "         ' Distinct Eigenvalues Method': 1,\n",
       "         ' Doses and Dose Equivalents': 1,\n",
       "         ' Doses and Dose Equivalents/Worked Solutions': 1,\n",
       "         ' Draw': 1,\n",
       "         ' Dynamic Mocks': 1,\n",
       "         ' E-readers and the Future of the Publishing Industry': 1,\n",
       "         ' Ecology': 1,\n",
       "         ' Ecosystems': 1,\n",
       "         ' Electricity': 5,\n",
       "         ' Energetics and Elements/Energy/Lattice Enthalpy': 1,\n",
       "         ' Energy and Resources/Alcohols': 1,\n",
       "         ' Energy and Resources/Basic Concepts and Hydrocarbons/Alkanes': 1,\n",
       "         ' Energy and Resources/Basic Concepts and Hydrocarbons/Alkenes': 1,\n",
       "         ' Envelope': 1,\n",
       "         ' Enzyme': 1,\n",
       "         ' Evaluation And Learning': 1,\n",
       "         ' Evaluation and Learning for Telecentre networks': 1,\n",
       "         ' Examination and Advice': 1,\n",
       "         ' Exterior': 1,\n",
       "         ' E♭ and A♭ Major scales': 1,\n",
       "         ' Failover and Load Balancing': 1,\n",
       "         ' Faxing': 1,\n",
       "         ' Fields and Energy': 1,\n",
       "         ' Fields and Energy/Appendix of Formulae': 1,\n",
       "         ' Fields and Energy/Capacitors': 1,\n",
       "         ' Fields and Energy/Electric fields': 1,\n",
       "         ' Fields and Energy/Electromagnetic induction': 1,\n",
       "         ' Fields and Energy/Electromagnetism': 1,\n",
       "         ' Fields and Energy/Further dynamics': 1,\n",
       "         ' Fields and Energy/Gravitational fields': 1,\n",
       "         ' Fields and Energy/Motion in a circle': 1,\n",
       "         ' Fields and Energy/Oscillations': 1,\n",
       "         ' Fields and Energy/Radioactivity': 1,\n",
       "         ' Fields and Energy/The nuclear atom': 1,\n",
       "         ' Fields and Energy/Thermal physics': 1,\n",
       "         ' Fields and Energy/Work and energy': 1,\n",
       "         ' Figures and Captions': 1,\n",
       "         ' First World Conceits': 1,\n",
       "         ' Flow Control': 1,\n",
       "         ' Fonts and Sidebars': 1,\n",
       "         ' Footers': 1,\n",
       "         ' Frame': 1,\n",
       "         ' France': 1,\n",
       "         ' Free Energy and Chemical Reactions': 1,\n",
       "         ' Free Will': 1,\n",
       "         ' Functions': 1,\n",
       "         ' Functions and Equality': 1,\n",
       "         ' Galaxies': 1,\n",
       "         ' General Systems Theory': 1,\n",
       "         ' Genomics and Proteomics': 2,\n",
       "         ' Geometric and Harmonic Mean': 1,\n",
       "         ' Germs': 1,\n",
       "         ' Girl': 2,\n",
       "         ' Glycogen and Diabetes': 1,\n",
       "         ' Gnumex and Cygwin)': 2,\n",
       "         ' Grids and Guides': 1,\n",
       "         ' Groups and Authentication': 1,\n",
       "         ' Hardware': 1,\n",
       "         ' Healing and Human Rights': 1,\n",
       "         ' High Intensity Exercise on Metabolic Syndrome': 1,\n",
       "         ' Hogwarts': 1,\n",
       "         ' Hoses and Machine Guns': 1,\n",
       "         ' Hoses and Machine Guns/Worked Solutions': 1,\n",
       "         ' Housing in Greeley': 1,\n",
       "         ' Humans and Rebels': 2,\n",
       "         ' Humans and Rebels/Mole Concept': 1,\n",
       "         ' Inc': 1,\n",
       "         ' India': 1,\n",
       "         ' Inductance': 2,\n",
       "         ' Inequality and Development': 1,\n",
       "         ' Information and Data': 1,\n",
       "         ' Innovation': 1,\n",
       "         ' Integrability criterion': 2,\n",
       "         ' Intelligence And Evolution': 1,\n",
       "         ' Interest': 2,\n",
       "         ' Interior': 1,\n",
       "         ' J. - Symphony No. 1': 1,\n",
       "         ' Ken Cuccinelli': 1,\n",
       "         ' Kernel': 2,\n",
       "         ' Knyvet': 1,\n",
       "         ' Korean Cyber Home Learning System (CHLS)': 1,\n",
       "         ' Language and Culture Assistants in Spain Survival Guide': 2,\n",
       "         ' Language and Culture Assistants in Spain Survival Guide/Living': 1,\n",
       "         ' Libraries and acronyms': 1,\n",
       "         ' Life Cycles': 1,\n",
       "         ' Life Insurance': 2,\n",
       "         ' Lightwave': 2,\n",
       "         ' Limits': 1,\n",
       "         ' Lines': 2,\n",
       "         ' Lists': 1,\n",
       "         ' Longitudinal and Torsional waves': 1,\n",
       "         ' Manchu': 1,\n",
       "         ' Manuals': 1,\n",
       "         ' Materials': 1,\n",
       "         ' Michael': 1,\n",
       "         ' Mitigation and Preparedness': 1,\n",
       "         ' Molecules': 1,\n",
       "         ' Momentum and Energy': 1,\n",
       "         ' Monitor And Kill Processes': 1,\n",
       "         ' Months': 1,\n",
       "         ' Moon': 1,\n",
       "         ' Morton Thiokol': 1,\n",
       "         ' Multiplication': 1,\n",
       "         ' Muscles': 1,\n",
       "         ' Muscles and Movement': 1,\n",
       "         ' Muscular': 1,\n",
       "         ' Mutation and Evolvability': 1,\n",
       "         ' Myself and I': 1,\n",
       "         ' NV': 1,\n",
       "         ' Nationalism': 1,\n",
       "         ' Natural Disasters': 4,\n",
       "         ' Navigation': 1,\n",
       "         ' New York': 2,\n",
       "         ' New York/1760s': 1,\n",
       "         ' New York/1770s': 1,\n",
       "         ' New York/1780s': 1,\n",
       "         ' New York/1790s': 1,\n",
       "         ' New York/1800s': 1,\n",
       "         ' New York/1810s': 1,\n",
       "         ' New York/1820s': 1,\n",
       "         ' New York/1830s': 1,\n",
       "         ' New York/1840s': 1,\n",
       "         ' New York/1850s': 1,\n",
       "         ' New York/1860s': 1,\n",
       "         ' New York/1870s': 1,\n",
       "         ' New York/1880s': 1,\n",
       "         ' New York/1890s': 1,\n",
       "         ' New York/1900s': 1,\n",
       "         ' New York/1930s': 1,\n",
       "         ' New York/1940s': 1,\n",
       "         ' New York/1950s': 1,\n",
       "         ' New York/1960s': 1,\n",
       "         ' New York/Businesses': 1,\n",
       "         ' New York/Churches': 1,\n",
       "         ' New York/Houses': 1,\n",
       "         ' New York/People': 1,\n",
       "         ' New York/References': 1,\n",
       "         ' New York/Schools': 1,\n",
       "         ' News and Sports': 1,\n",
       "         ' Newsgroups and Discussion Groups': 1,\n",
       "         ' Normandy': 1,\n",
       "         ' Not Statements': 1,\n",
       "         ' O': 1,\n",
       "         ' Objects and Types': 1,\n",
       "         ' Obstacles': 1,\n",
       "         ' Ocmulgee and Altamaha River Basins': 1,\n",
       "         ' Orion and Scorpio': 1,\n",
       "         ' Over 80 and Refusal': 3,\n",
       "         ' Over 80 and Refusal Causing Bodily Harm or Death': 3,\n",
       "         ' P. I. - Symphony No. 5': 1,\n",
       "         ' PDEs': 1,\n",
       "         ' Parke-Davis': 1,\n",
       "         ' Part 1': 3,\n",
       "         ' Part 2': 3,\n",
       "         ' Part 3': 2,\n",
       "         ' Part II': 2,\n",
       "         ' Part Two': 1,\n",
       "         ' Particles and Frontiers of Physics': 1,\n",
       "         ' Particles and Frontiers of Physics/Capacitors': 1,\n",
       "         ' Particles and Frontiers of Physics/Electric Fields': 1,\n",
       "         ' Particles and Frontiers of Physics/Magnetic Fields': 1,\n",
       "         ' Pass-By-Reference and Static Arrays': 2,\n",
       "         ' Peoples Republic': 1,\n",
       "         ' Peoples Republic (Mainland)': 1,\n",
       "         ' Phases and Tasks MDC': 2,\n",
       "         ' Phases and Tasks MDC/Phase 1 - Definition of Event': 1,\n",
       "         ' Phases and Tasks MDC/Phase 2 - Development of Event Plans': 1,\n",
       "         ' Phases and Tasks MDC/Phase 3 - Review of Event Plans': 1,\n",
       "         ' Phases and Tasks MDC/Phase 4 - Execution of Event Plans': 1,\n",
       "         ' Phases and Tasks MDC/Phase 5 - Evaluation of Event Plans': 1,\n",
       "         ' Physics': 2,\n",
       "         ' Pipes And Redirects': 1,\n",
       "         ' Policy': 1,\n",
       "         ' Polymers and Analysis/Rings': 1,\n",
       "         ' Populations and Communities': 1,\n",
       "         ' Power and Conflict': 1,\n",
       "         ' Primitive': 1,\n",
       "         ' Prince of Tyre': 1,\n",
       "         ' Programming': 140,\n",
       "         ' Programming and Network Concepts': 1,\n",
       "         ' Programming and Network Concepts/Introduction to Communication and Networking': 1,\n",
       "         ' Programming and Network Concepts/Introduction to Computer Systems': 1,\n",
       "         ' Programming and Network Concepts/Introduction to Information and Data Representation': 1,\n",
       "         ' Programming and Network Concepts/Introduction to Programming': 1,\n",
       "         ' Pronunciation': 1,\n",
       "         ' Protons and Neutrons': 1,\n",
       "         ' Pull-offs': 1,\n",
       "         ' Purification and Filtration': 1,\n",
       "         ' R. - Siegfried-Idyll': 2,\n",
       "         ' Randall Baldwin. “Geriatrics.”': 1,\n",
       "         ' Rational': 1,\n",
       "         ' Recognizance': 4,\n",
       "         ' Reliability': 1,\n",
       "         ' Reproduction': 1,\n",
       "         ' Reproduction and Kinship': 1,\n",
       "         ' Republic': 1,\n",
       "         ' Republic (South)': 1,\n",
       "         ' Republic Of (Taiwan)': 1,\n",
       "         ' Rinse': 1,\n",
       "         ' Routers': 14,\n",
       "         ' SH': 1,\n",
       "         ' Sample Space and Events': 1,\n",
       "         ' Samuel Provance': 1,\n",
       "         ' Scales': 1,\n",
       "         ' Scenas 1 e 2 (anglese)': 8,\n",
       "         ' Scenas 1 e 2 (interlingua)': 8,\n",
       "         ' Scenas 3 e 4 (anglese)': 8,\n",
       "         ' Scenas 3 e 4 (interlingua)': 8,\n",
       "         ' Scenas 5 e 6 (anglese)': 8,\n",
       "         ' Scenas 5 e 6 (interlingua)': 8,\n",
       "         ' Scenes I-III': 2,\n",
       "         ' Scenes IV-V and Act III': 1,\n",
       "         ' Scenes V-VII': 1,\n",
       "         ' Schools': 1,\n",
       "         ' Science': 2,\n",
       "         ' Scopes': 1,\n",
       "         ' Script': 2,\n",
       "         ' Scripts': 1,\n",
       "         ' Sculpture': 1,\n",
       "         ' Secant': 1,\n",
       "         ' Semi-Presidential': 1,\n",
       "         ' Setof and Findall': 1,\n",
       "         ' Shopping and Money': 1,\n",
       "         ' Significant Figures': 1,\n",
       "         ' Sin t)': 1,\n",
       "         ' Sinh and Tanh': 1,\n",
       "         ' Soaps': 1,\n",
       "         ' Social Networks': 2,\n",
       "         ' Socialism and Communism': 1,\n",
       "         ' Software and Applications': 2,\n",
       "         ' Software and Applications/Machine Level Architecture': 2,\n",
       "         ' Software and Applications/Machine Level Architecture/Boolean Algebra': 2,\n",
       "         ' Software and Applications/Machine Level Architecture/Logic Gates': 2,\n",
       "         ' Special Item and Gold Calls': 1,\n",
       "         ' Spectra': 1,\n",
       "         ' Spontaneous Abortion': 1,\n",
       "         ' Sport and Arts': 1,\n",
       "         ' Sr.': 2,\n",
       "         ' Standard': 1,\n",
       "         ' Standard Output': 1,\n",
       "         ' Standards and Ideas to Consider': 1,\n",
       "         ' States': 1,\n",
       "         ' Steinitz Variation': 1,\n",
       "         ' Structure': 1,\n",
       "         ' Sum-and-Product': 1,\n",
       "         ' Suwannee and St. Marys River Basins': 1,\n",
       "         ' Sweet Home': 1,\n",
       "         ' Symptoms': 1,\n",
       "         ' TLS and HTTPS basics': 1,\n",
       "         ' Tallapoosa': 1,\n",
       "         ' Technology and Policy': 3,\n",
       "         ' Technology and Policy/About the Author': 1,\n",
       "         ' Technology and Policy/Acknowledgements': 1,\n",
       "         ' Technology and Policy/Applications in Agriculture': 1,\n",
       "         ' Technology and Policy/Applications in Medicine': 1,\n",
       "         ' Technology and Policy/Contributors': 1,\n",
       "         ' Technology and Policy/Introduction': 1,\n",
       "         ' Technology and Policy/Notes': 1,\n",
       "         ' Technology and Policy/Ownership Of and Access to Biotechnology': 1,\n",
       "         ' Technology and Policy/Preface': 1,\n",
       "         ' Technology and Policy/References': 1,\n",
       "         ' Technology and Policy/The Science': 1,\n",
       "         ' Technology and the future': 1,\n",
       "         ' Temperature': 1,\n",
       "         ' Terms and Simplifying Equations': 2,\n",
       "         ' Texas': 2,\n",
       "         ' Textbook': 1,\n",
       "         ' The Genetic Material': 1,\n",
       "         ' The Gospel of Jesus Christ': 1,\n",
       "         ' The Russian Advance': 1,\n",
       "         ' The Stored Program Concept and the Internet': 1,\n",
       "         ' The Stored Program Concept and the Internet/Consequences of Uses of Computing': 1,\n",
       "         ' The Stored Program Concept and the Internet/Consequences of Uses of Computing/Code of conduct': 1,\n",
       "         ' The Stored Program Concept and the Internet/Consequences of Uses of Computing/Digital rights management': 1,\n",
       "         ' The Stored Program Concept and the Internet/Consequences of Uses of Computing/Emerging technologies': 1,\n",
       "         ' The Stored Program Concept and the Internet/Consequences of Uses of Computing/Hacking': 1,\n",
       "         ' The Stored Program Concept and the Internet/Consequences of Uses of Computing/Legal and ethical issues': 1,\n",
       "         ' The Stored Program Concept and the Internet/Consequences of Uses of Computing/Legislation': 1,\n",
       "         ' The Stored Program Concept and the Internet/Consequences of Uses of Computing/Robotics': 1,\n",
       "         ' The Stored Program Concept and the Internet/Fundamental Hardware Elements of Computers': 1,\n",
       "         ' The Stored Program Concept and the Internet/Fundamental Hardware Elements of Computers/Boolean algebra': 1,\n",
       "         ' The Stored Program Concept and the Internet/Fundamental Hardware Elements of Computers/Boolean gate combinations': 1,\n",
       "         ' The Stored Program Concept and the Internet/Fundamental Hardware Elements of Computers/Boolean identities': 1,\n",
       "         ' The Stored Program Concept and the Internet/Fundamental Hardware Elements of Computers/Building circuits': 1,\n",
       "         \" The Stored Program Concept and the Internet/Fundamental Hardware Elements of Computers/De Morgan's Laws\": 1,\n",
       "         ' The Stored Program Concept and the Internet/Fundamental Hardware Elements of Computers/Gate conversion': 1,\n",
       "         ' The Stored Program Concept and the Internet/Fundamental Hardware Elements of Computers/Logic Gates': 1,\n",
       "         ' The Stored Program Concept and the Internet/Fundamental Hardware Elements of Computers/Simplifying boolean equations': 1,\n",
       "         ' The Stored Program Concept and the Internet/Fundamental Hardware Elements of Computers/Uses of gates': 1,\n",
       "         ' The Stored Program Concept and the Internet/Fundamentals of Computer Systems': 1,\n",
       "         ' The Stored Program Concept and the Internet/Fundamentals of Computer Systems/Application software': 1,\n",
       "         ' The Stored Program Concept and the Internet/Fundamentals of Computer Systems/Classification of Software': 1,\n",
       "         ' The Stored Program Concept and the Internet/Fundamentals of Computer Systems/Classification of software': 1,\n",
       "         ' The Stored Program Concept and the Internet/Fundamentals of Computer Systems/Generations of programming language': 1,\n",
       "         ' The Stored Program Concept and the Internet/Fundamentals of Computer Systems/Hardware and software': 1,\n",
       "         ' The Stored Program Concept and the Internet/Fundamentals of Computer Systems/System software': 1,\n",
       "         ' The Stored Program Concept and the Internet/Fundamentals of Computer Systems/Types of program translator': 1,\n",
       "         ' The Stored Program Concept and the Internet/Hardware Devices': 1,\n",
       "         ' The Stored Program Concept and the Internet/Hardware Devices/Input and output devices': 1,\n",
       "         ' The Stored Program Concept and the Internet/Hardware Devices/Input devices': 1,\n",
       "         ' The Stored Program Concept and the Internet/Hardware Devices/Output devices': 1,\n",
       "         ' The Stored Program Concept and the Internet/Hardware Devices/Secondary storage devices': 1,\n",
       "         ' The Stored Program Concept and the Internet/Machine Level Architecture': 1,\n",
       "         ' The Stored Program Concept and the Internet/Machine Level Architecture/Functional characteristics of a processor': 1,\n",
       "         ' The Stored Program Concept and the Internet/Machine Level Architecture/Internal and external hardware components of a computer': 1,\n",
       "         ' The Stored Program Concept and the Internet/Machine Level Architecture/Machine code and processor instruction set': 1,\n",
       "         ' The Stored Program Concept and the Internet/Machine Level Architecture/Structure and role of the processor': 1,\n",
       "         ' The Stored Program Concept and the Internet/Machine Level Architecture/The Fetch–Execute cycle and the role of registers within it': 1,\n",
       "         ' The Stored Program Concept and the Internet/Structure of the Internet': 1,\n",
       "         ' The Stored Program Concept and the Internet/Structure of the Internet/Client server model': 1,\n",
       "         ' The Stored Program Concept and the Internet/Structure of the Internet/Domain names': 1,\n",
       "         ' The Stored Program Concept and the Internet/Structure of the Internet/IP addresses': 1,\n",
       "         ' The Stored Program Concept and the Internet/Structure of the Internet/Internet': 1,\n",
       "         ' The Stored Program Concept and the Internet/Structure of the Internet/Packet switching': 1,\n",
       "         ' The Stored Program Concept and the Internet/Structure of the Internet/Protocols': 1,\n",
       "         ' The Stored Program Concept and the Internet/Structure of the Internet/TCP IP protocol stack': 1,\n",
       "         ' The Stored Program Concept and the Internet/Structure of the Internet/TCP/IP protocol stack': 1,\n",
       "         ' The Stored Program Concept and the Internet/Structure of the Internet/URIs': 1,\n",
       "         ' The Stored Program Concept and the Internet/Webpage Design': 1,\n",
       "         ' The Stored Program Concept and the Internet/Webpage Design/Web page construction': 1,\n",
       "         ' The Stored Program Concept and the Internet/Webpage Design/Webpage design': 1,\n",
       "         ' Tobacco': 4,\n",
       "         ' Traffic Control': 5,\n",
       "         ' Transcoding': 7,\n",
       "         ' Transmission and Reflection of Light and Heat': 1,\n",
       "         ' Tricks and Optimizations': 1,\n",
       "         ' USA': 2,\n",
       "         ' USA/Four-way stops': 1,\n",
       "         ' USA/Passing': 1,\n",
       "         ' USA/Turning right at red lights': 1,\n",
       "         ' Undeleting': 2,\n",
       "         ' Unilateral': 1,\n",
       "         ' Unit Tangent Vector': 1,\n",
       "         ' Unofficial Words': 1,\n",
       "         ' Use': 1,\n",
       "         ' Violent Collisions': 1,\n",
       "         ' Virtual reality and Crime': 1,\n",
       "         ' Waves': 1,\n",
       "         ' Waves and Photons': 1,\n",
       "         ' Waves and Photons/D.C. circuits': 1,\n",
       "         ' Waves and Photons/Electric current': 1,\n",
       "         ' Waves and Photons/Electromagnetic waves': 1,\n",
       "         ' Waves and Photons/Magnetic effects of current': 1,\n",
       "         ' Waves and Photons/Quantum physics': 1,\n",
       "         ' Webs and the Information Infrastructure': 3,\n",
       "         ' Webs and the Information Infrastructure/About the Author': 1,\n",
       "         ' Webs and the Information Infrastructure/Acknowledgment': 1,\n",
       "         ' Webs and the Information Infrastructure/Enter the Net': 1,\n",
       "         ' Webs and the Information Infrastructure/For Further Reading': 1,\n",
       "         ' Webs and the Information Infrastructure/Glossary': 1,\n",
       "         ' Webs and the Information Infrastructure/Introduction': 1,\n",
       "         ' Webs and the Information Infrastructure/Net for us': 1,\n",
       "         ' Webs and the Information Infrastructure/Notes': 1,\n",
       "         ' Webs and the Information Infrastructure/Preface': 1,\n",
       "         ' Webs and the Information Infrastructure/Viruses': 1,\n",
       "         ' Why': 1,\n",
       "         ' Wikis and Online Interaction': 1,\n",
       "         ' Word Perfect or other RTF-compatible tools to SGML\\\\XML': 1,\n",
       "         ' Work': 1,\n",
       "         ' World': 3,\n",
       "         ' World!': 3,\n",
       "         ' World!/More Info about the Write Family': 2,\n",
       "         ' XHTML and DOCTYPEs': 1,\n",
       "         ' Yes - No Questions': 1,\n",
       "         ' Yom Kippur War': 1,\n",
       "         ' a Tutorial/': 1,\n",
       "         ' a pool': 2,\n",
       "         ' a stylesheet': 1,\n",
       "         ' administrative base': 1,\n",
       "         ' administrative base and financial assets/Tasks and phases involved': 1,\n",
       "         ' after a Stroke': 2,\n",
       "         ' and How': 12,\n",
       "         ' and dictionarys': 2,\n",
       "         ' and drug misuse': 1,\n",
       "         ' and drug misuse/Stimulants': 1,\n",
       "         ' and drug misuse/abuse': 1,\n",
       "         ' and quality/expressiveness of ETDs': 1,\n",
       "         ' applications intallation': 2,\n",
       "         ' area': 1,\n",
       "         ' behaviorism and cognitivism': 1,\n",
       "         ' biomes and ecosystems': 1,\n",
       "         ' bösen Lieder': 1,\n",
       "         ' cases': 1,\n",
       "         ' causality and Special Relativity': 1,\n",
       "         ' chest wall': 1,\n",
       "         ' click here for details': 1,\n",
       "         ' communicating research results': 1,\n",
       "         ' communications and software': 1,\n",
       "         ' communications and software/Choosing appropriate applications software': 1,\n",
       "         ' communications and software/Components of a computer system and modes of use': 1,\n",
       "         ' communications and software/Components of a computer system and modes of use/Types of hardware': 1,\n",
       "         ' communications and software/Components of a computer system and modes of use/Types of software': 1,\n",
       "         ' communications and software/Data transmission and networking': 1,\n",
       "         ' communications and software/Designing the user interface': 1,\n",
       "         ' communications and software/Handling of data in information systems': 1,\n",
       "         ' communications and software/Hardware': 1,\n",
       "         ' communications and software/Logic gates': 1,\n",
       "         ' communications and software/System life cycle': 1,\n",
       "         ' communications and software/System software': 1,\n",
       "         ' communications and software/System software/Operating systems': 1,\n",
       "         ' communications and software/System software/User interfaces': 1,\n",
       "         ' communications and software/System software/Utility software': 1,\n",
       "         ' conjunctions': 2,\n",
       "         ' continue': 1,\n",
       "         ' cooperation': 1,\n",
       "         ' coordination and homeostasis': 1,\n",
       "         ' costs': 1,\n",
       "         ' cross walks': 1,\n",
       "         ' delaying progression through exercise': 1,\n",
       "         ' delete': 2,\n",
       "         ' denominations': 2,\n",
       "         ' die Lilie': 1,\n",
       "         ' die kleinen': 1,\n",
       "         \" dès l'aube\": 1,\n",
       "         ' elimination': 1,\n",
       "         ' email and internet artefacts': 1,\n",
       "         ' etc.)': 1,\n",
       "         ' exercise and cold environments': 1,\n",
       "         ' explanations': 1,\n",
       "         ' extensions and frameworks': 1,\n",
       "         ' flexible arrays': 1,\n",
       "         ' functions': 1,\n",
       "         ' genetics and gene control': 1,\n",
       "         ' goals': 1,\n",
       "         ' governments and donors': 1,\n",
       "         ' im heiligen Strome': 1,\n",
       "         ' installation and familiarization with LibreOffice Writer': 1,\n",
       "         ' integral methods': 2,\n",
       "         ' kepeken': 1,\n",
       "         ' languages and nationalities': 2,\n",
       "         ' liquids and solids each have specific physical characteristics': 1,\n",
       "         ' lists': 1,\n",
       "         ' local policies and procedures': 1,\n",
       "         ' mascot and colours': 1,\n",
       "         ' mascot and colours/Tasks and Phases Involved': 1,\n",
       "         ' mass': 1,\n",
       "         ' median': 1,\n",
       "         ' negative and interrogative sentences': 1,\n",
       "         ' numerical time integration': 2,\n",
       "         ' or how often to take it': 1,\n",
       "         ' outside documents': 1,\n",
       "         ' pH': 1,\n",
       "         ' painting and applying decals': 1,\n",
       "         ' particular case of electromagnetism': 2,\n",
       "         ' patterns': 1,\n",
       "         ' pentatonic and blues scales': 1,\n",
       "         ' perturbative methods': 2,\n",
       "         ' plant': 1,\n",
       "         ' population and organization in and out the reservations': 1,\n",
       "         ' principles': 2,\n",
       "         ' principles and supremacy': 1,\n",
       "         ' read and erase cookies': 1,\n",
       "         ' rehabilitation and development (LRRD)': 1,\n",
       "         ' relationships and inter relationships': 1,\n",
       "         ' restoration and maintenance': 1,\n",
       "         ' roots': 1,\n",
       "         ' schedules and workflow': 1,\n",
       "         ' science and nursing science': 1,\n",
       "         ' security': 1,\n",
       "         ' selection and evolution': 1,\n",
       "         ' she and it': 1,\n",
       "         ' spectral and evolution problems': 2,\n",
       "         ' spectral method': 2,\n",
       "         ' suspension': 1,\n",
       "         ' tax and compliance': 2,\n",
       "         ' the Americas': 1,\n",
       "         ' the Internet': 1,\n",
       "         ' the Secure Shell': 2,\n",
       "         ' the Secure Shell/Configuration': 1,\n",
       "         ' the Secure Shell/Installation': 1,\n",
       "         ' the Secure Shell/Introduction to SSH': 1,\n",
       "         ' the Witch': 18,\n",
       "         ' the bustle and roar': 1,\n",
       "         ' the language and its advantages': 2,\n",
       "         ' theory': 4,\n",
       "         ' time': 2,\n",
       "         ' time dilation and length contraction': 1,\n",
       "         ' tracking and jitter performances': 1,\n",
       "         ' traffic control and firewalls': 1,\n",
       "         ' traffic control and firewalls/Bibliography': 1,\n",
       "         ' traffic control and firewalls/See also': 1,\n",
       "         ' traffic control and firewalls/Traffic control': 1,\n",
       "         ' trees': 1,\n",
       "         ' trimming attacks': 1,\n",
       "         ' unfounded accusations': 1,\n",
       "         ' universities must refine their niche': 1,\n",
       "         ' variables and data types': 1,\n",
       "         ' variational methods': 2,\n",
       "         ' vfprintf': 1,\n",
       "         ' vfscanf': 1,\n",
       "         \" voltage resistance and Ohm's law\": 1,\n",
       "         \" voltage resistance and Ohm's law answers\": 1,\n",
       "         ' work and power': 1,\n",
       "         ' x^y': 1,\n",
       "         '/wiki/Computer': 2,\n",
       "         '/wiki/Computer Science': 1,\n",
       "         '/wiki/Computing': 3,\n",
       "         '/wiki/Electrical Engineering': 1,\n",
       "         '/wiki/Engineering': 3,\n",
       "         '/wiki/Engineering bookshelf': 3,\n",
       "         '/wiki/Humanities': 3,\n",
       "         '/wiki/Humanities bookshelf': 3,\n",
       "         '/wiki/Language': 3,\n",
       "         '/wiki/Languages': 7,\n",
       "         '/wiki/Math': 4,\n",
       "         '/wiki/Mathematics': 3,\n",
       "         '/wiki/Maths': 1,\n",
       "         '/wiki/Mechanical Engineering': 1,\n",
       "         '/wiki/Mechanical Engineers': 1,\n",
       "         '/wiki/Miscellaneous': 3,\n",
       "         '/wiki/Science': 3,\n",
       "         '/wiki/Social Science': 1,\n",
       "         '/wiki/Social science': 1,\n",
       "         '/wiki/Social sciences': 3,\n",
       "         '/wiki/Sociology bookshelf': 1,\n",
       "         '/wiki/Standard curricula': 3,\n",
       "         '000': 4,\n",
       "         '3-bisphosphoglycerate': 1,\n",
       "         '4-D': 2,\n",
       "         '4-Dichlorophenoxyacetic acid': 2,\n",
       "         'Boolean': 1,\n",
       "         'Computing': 22816,\n",
       "         'Congruent': 1,\n",
       "         'Cookbooks': 26,\n",
       "         'Engineering': 3473,\n",
       "         'Help': 90,\n",
       "         'Humanities': 11153,\n",
       "         'Languages': 12530,\n",
       "         'Mathematics': 3687,\n",
       "         'Miscellaneou': 1,\n",
       "         'Miscellaneous': 7787,\n",
       "         'Paging and Sorting': 1,\n",
       "         'Patents and Trade Secrets': 1,\n",
       "         'R': 1,\n",
       "         'Science': 11014,\n",
       "         'Social_sciences': 6752,\n",
       "         'Standard_curricula': 2828,\n",
       "         'U': 1,\n",
       "         'Video Games and Obesity': 1,\n",
       "         'Wikijunior': 441,\n",
       "         'pt2': 1,\n",
       "         '” Heber Springs': 1})"
      ]
     },
     "execution_count": 119,
     "metadata": {},
     "output_type": "execute_result"
    }
   ],
   "source": [
    "count"
   ]
  },
  {
   "cell_type": "code",
   "execution_count": 120,
   "metadata": {},
   "outputs": [
    {
     "data": {
      "text/plain": [
       "1"
      ]
     },
     "execution_count": 120,
     "metadata": {},
     "output_type": "execute_result"
    }
   ],
   "source": [
    "len(data[data['category']==\"U\"])"
   ]
  },
  {
   "cell_type": "code",
   "execution_count": 121,
   "metadata": {},
   "outputs": [
    {
     "data": {
      "text/html": [
       "<div>\n",
       "<style scoped>\n",
       "    .dataframe tbody tr th:only-of-type {\n",
       "        vertical-align: middle;\n",
       "    }\n",
       "\n",
       "    .dataframe tbody tr th {\n",
       "        vertical-align: top;\n",
       "    }\n",
       "\n",
       "    .dataframe thead th {\n",
       "        text-align: right;\n",
       "    }\n",
       "</style>\n",
       "<table border=\"1\" class=\"dataframe\">\n",
       "  <thead>\n",
       "    <tr style=\"text-align: right;\">\n",
       "      <th></th>\n",
       "      <th>id</th>\n",
       "      <th>book</th>\n",
       "      <th>category</th>\n",
       "    </tr>\n",
       "  </thead>\n",
       "  <tbody>\n",
       "    <tr>\n",
       "      <th>29010</th>\n",
       "      <td>39559</td>\n",
       "      <td>Anatomy and Physiology of Animals/Glossary/T</td>\n",
       "      <td>U</td>\n",
       "    </tr>\n",
       "  </tbody>\n",
       "</table>\n",
       "</div>"
      ],
      "text/plain": [
       "          id                                          book category\n",
       "29010  39559  Anatomy and Physiology of Animals/Glossary/T        U"
      ]
     },
     "execution_count": 121,
     "metadata": {},
     "output_type": "execute_result"
    }
   ],
   "source": [
    "data[data['category']==\"U\"]"
   ]
  },
  {
   "cell_type": "code",
   "execution_count": 123,
   "metadata": {},
   "outputs": [
    {
     "data": {
      "text/plain": [
       "[('Computing', 22816),\n",
       " ('Languages', 12530),\n",
       " ('Humanities', 11153),\n",
       " ('Science', 11014),\n",
       " ('Miscellaneous', 7787),\n",
       " ('Social_sciences', 6752),\n",
       " ('Mathematics', 3687),\n",
       " ('Engineering', 3473),\n",
       " ('Standard_curricula', 2828),\n",
       " ('Wikijunior', 441),\n",
       " (' Programming', 140),\n",
       " ('Help', 90),\n",
       " ('Cookbooks', 26),\n",
       " (' the Witch', 18),\n",
       " (' Routers', 14)]"
      ]
     },
     "execution_count": 123,
     "metadata": {},
     "output_type": "execute_result"
    }
   ],
   "source": [
    "count.most_common(15)"
   ]
  },
  {
   "cell_type": "code",
   "execution_count": 129,
   "metadata": {},
   "outputs": [
    {
     "data": {
      "text/plain": [
       "82769"
      ]
     },
     "execution_count": 129,
     "metadata": {},
     "output_type": "execute_result"
    }
   ],
   "source": [
    "sum([v[1] for v in count.most_common(15)])"
   ]
  },
  {
   "cell_type": "code",
   "execution_count": 130,
   "metadata": {},
   "outputs": [
    {
     "data": {
      "text/plain": [
       "83686"
      ]
     },
     "execution_count": 130,
     "metadata": {},
     "output_type": "execute_result"
    }
   ],
   "source": [
    "len(data)"
   ]
  },
  {
   "cell_type": "code",
   "execution_count": 131,
   "metadata": {},
   "outputs": [
    {
     "data": {
      "text/plain": [
       "917"
      ]
     },
     "execution_count": 131,
     "metadata": {},
     "output_type": "execute_result"
    }
   ],
   "source": [
    "len(data) - sum([v[1] for v in count.most_common(15)])"
   ]
  },
  {
   "cell_type": "code",
   "execution_count": 137,
   "metadata": {},
   "outputs": [],
   "source": [
    "common_categories = [v[0] for v in count.most_common(13)]"
   ]
  },
  {
   "cell_type": "code",
   "execution_count": 138,
   "metadata": {},
   "outputs": [
    {
     "data": {
      "text/plain": [
       "['Computing',\n",
       " 'Languages',\n",
       " 'Humanities',\n",
       " 'Science',\n",
       " 'Miscellaneous',\n",
       " 'Social_sciences',\n",
       " 'Mathematics',\n",
       " 'Engineering',\n",
       " 'Standard_curricula',\n",
       " 'Wikijunior',\n",
       " ' Programming',\n",
       " 'Help',\n",
       " 'Cookbooks']"
      ]
     },
     "execution_count": 138,
     "metadata": {},
     "output_type": "execute_result"
    }
   ],
   "source": [
    "common_categories"
   ]
  },
  {
   "cell_type": "code",
   "execution_count": 143,
   "metadata": {},
   "outputs": [],
   "source": [
    "d = data[data.category .isin( common_categories)]"
   ]
  },
  {
   "cell_type": "code",
   "execution_count": 145,
   "metadata": {},
   "outputs": [
    {
     "data": {
      "text/plain": [
       "82737"
      ]
     },
     "execution_count": 145,
     "metadata": {},
     "output_type": "execute_result"
    }
   ],
   "source": [
    "len(d)"
   ]
  },
  {
   "cell_type": "code",
   "execution_count": 146,
   "metadata": {},
   "outputs": [],
   "source": [
    "count_d = Counter()"
   ]
  },
  {
   "cell_type": "code",
   "execution_count": 147,
   "metadata": {},
   "outputs": [
    {
     "data": {
      "text/plain": [
       "array(['Science', 'Computing', 'Mathematics', 'Social_sciences',\n",
       "       'Languages', 'Humanities', 'Miscellaneous', 'Engineering',\n",
       "       'Standard_curricula', 'Cookbooks', 'Help', 'Wikijunior',\n",
       "       ' Programming'], dtype=object)"
      ]
     },
     "execution_count": 147,
     "metadata": {},
     "output_type": "execute_result"
    }
   ],
   "source": [
    "d.category.unique()"
   ]
  },
  {
   "cell_type": "code",
   "execution_count": 148,
   "metadata": {},
   "outputs": [],
   "source": [
    "for cat in d.category.unique():\n",
    "    count_d[cat] = len(d[d['category']==cat])"
   ]
  },
  {
   "cell_type": "code",
   "execution_count": 149,
   "metadata": {},
   "outputs": [
    {
     "data": {
      "text/plain": [
       "Counter({' Programming': 140,\n",
       "         'Computing': 22816,\n",
       "         'Cookbooks': 26,\n",
       "         'Engineering': 3473,\n",
       "         'Help': 90,\n",
       "         'Humanities': 11153,\n",
       "         'Languages': 12530,\n",
       "         'Mathematics': 3687,\n",
       "         'Miscellaneous': 7787,\n",
       "         'Science': 11014,\n",
       "         'Social_sciences': 6752,\n",
       "         'Standard_curricula': 2828,\n",
       "         'Wikijunior': 441})"
      ]
     },
     "execution_count": 149,
     "metadata": {},
     "output_type": "execute_result"
    }
   ],
   "source": [
    "count_d"
   ]
  },
  {
   "cell_type": "code",
   "execution_count": 153,
   "metadata": {},
   "outputs": [
    {
     "data": {
      "text/plain": [
       "[('Computing', 22816),\n",
       " ('Languages', 12530),\n",
       " ('Humanities', 11153),\n",
       " ('Science', 11014),\n",
       " ('Miscellaneous', 7787),\n",
       " ('Social_sciences', 6752),\n",
       " ('Mathematics', 3687),\n",
       " ('Engineering', 3473),\n",
       " ('Standard_curricula', 2828),\n",
       " ('Wikijunior', 441),\n",
       " (' Programming', 140),\n",
       " ('Help', 90),\n",
       " ('Cookbooks', 26)]"
      ]
     },
     "execution_count": 153,
     "metadata": {},
     "output_type": "execute_result"
    }
   ],
   "source": [
    "count_d.most_common()"
   ]
  },
  {
   "cell_type": "code",
   "execution_count": 238,
   "metadata": {},
   "outputs": [
    {
     "name": "stdout",
     "output_type": "stream",
     "text": [
      "/home/aniruddha-tapas/Desktop/NLP-test/test3/wikiextractor-master/data/Computing\n",
      "/home/aniruddha-tapas/Desktop/NLP-test/test3/wikiextractor-master/data/Languages\n",
      "/home/aniruddha-tapas/Desktop/NLP-test/test3/wikiextractor-master/data/Humanities\n",
      "/home/aniruddha-tapas/Desktop/NLP-test/test3/wikiextractor-master/data/Science\n",
      "/home/aniruddha-tapas/Desktop/NLP-test/test3/wikiextractor-master/data/Miscellaneous\n",
      "/home/aniruddha-tapas/Desktop/NLP-test/test3/wikiextractor-master/data/Social_sciences\n",
      "/home/aniruddha-tapas/Desktop/NLP-test/test3/wikiextractor-master/data/Mathematics\n",
      "/home/aniruddha-tapas/Desktop/NLP-test/test3/wikiextractor-master/data/Engineering\n",
      "/home/aniruddha-tapas/Desktop/NLP-test/test3/wikiextractor-master/data/Standard_curricula\n",
      "/home/aniruddha-tapas/Desktop/NLP-test/test3/wikiextractor-master/data/Wikijunior\n",
      "/home/aniruddha-tapas/Desktop/NLP-test/test3/wikiextractor-master/data/ Programming\n",
      "/home/aniruddha-tapas/Desktop/NLP-test/test3/wikiextractor-master/data/Help\n",
      "/home/aniruddha-tapas/Desktop/NLP-test/test3/wikiextractor-master/data/Cookbooks\n"
     ]
    }
   ],
   "source": [
    "import os\n",
    "cwd = os.getcwd()\n",
    "for cat in common_categories:\n",
    "    cat_path = os.path.join(cwd, \"extracted/\", cat)\n",
    "    \n",
    "    if not os.path.exists(cat_path):\n",
    "        os.makedirs(cat_path)\n",
    "        print(cat_path)"
   ]
  },
  {
   "cell_type": "code",
   "execution_count": 172,
   "metadata": {},
   "outputs": [
    {
     "name": "stdout",
     "output_type": "stream",
     "text": [
      "73211\n",
      "[]\n",
      "/home/aniruddha-tapas/Desktop/NLP-test/test3/wikiextractor-master/allbooks/\n",
      "The Geology of IndonesiaStratigraphyIntroduction.txt\n",
      "HorticultureMyzus persicae.txt\n",
      "Legal Words Phrases and MaximsChinese wall.txt\n",
      "Rebol Programmingmake-dir.txt\n",
      "A-level MathematicsOCRS1.txt\n",
      "Neapolitan.txt\n",
      "Job Search Automation for College StudentsSlide 2.txt\n",
      "Windows ProgrammingDynamic Link Libraries.txt\n",
      "BartendingAlcoholCoffee liqueur.txt\n",
      "AlgebraEqualities and Inequalities.txt\n"
     ]
    }
   ],
   "source": [
    "directory = \"\"\n",
    "text_files = []\n",
    "for root, dirs, files in os.walk(os.path.join(cwd, 'allbooks/')):  \n",
    "    print(len(files))\n",
    "    print(dirs)\n",
    "    print(root)\n",
    "    \n",
    "    text_files = files\n",
    "    directory = root\n",
    "    \n",
    "    for i,file in enumerate(files[:10]):\n",
    "        path_file = os.path.join(root,file)\n",
    "        print(file)"
   ]
  },
  {
   "cell_type": "code",
   "execution_count": 174,
   "metadata": {},
   "outputs": [
    {
     "data": {
      "text/plain": [
       "73211"
      ]
     },
     "execution_count": 174,
     "metadata": {},
     "output_type": "execute_result"
    }
   ],
   "source": [
    "len(text_files)"
   ]
  },
  {
   "cell_type": "code",
   "execution_count": 25,
   "metadata": {},
   "outputs": [
    {
     "name": "stdout",
     "output_type": "stream",
     "text": [
      "1\n"
     ]
    }
   ],
   "source": [
    "d.to_csv(\"allbooks_by_category.csv\")"
   ]
  },
  {
   "cell_type": "markdown",
   "metadata": {},
   "source": [
    "<hr>"
   ]
  }
 ],
 "metadata": {
  "kernelspec": {
   "display_name": "Python 3",
   "language": "python",
   "name": "python3"
  },
  "language_info": {
   "codemirror_mode": {
    "name": "ipython",
    "version": 3
   },
   "file_extension": ".py",
   "mimetype": "text/x-python",
   "name": "python",
   "nbconvert_exporter": "python",
   "pygments_lexer": "ipython3",
   "version": "3.5.2"
  }
 },
 "nbformat": 4,
 "nbformat_minor": 2
}
