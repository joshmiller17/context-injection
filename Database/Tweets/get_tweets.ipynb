{
 "cells": [
  {
   "cell_type": "code",
   "execution_count": 4,
   "metadata": {},
   "outputs": [],
   "source": [
    "import os, re\n",
    "import xml.etree.ElementTree as ET\n",
    "\n",
    "# Configurations for the tweepy\n",
    "def loadConfig():\n",
    "    parser = ET.XMLParser(encoding=\"utf-8\")\n",
    "    file = open('raw-dataset/truth.txt', 'r')\n",
    "    fileList = file.readlines()\n",
    "    file.close()\n",
    "\n",
    "    consumer_key = 'ompV1RA39zhlejhRYrYi7y6F3'\n",
    "    consumer_secret = '5XkJD67sa42ys3KMNKpn6wwtvwCNgYviFdOfo9IQifd0rIV4w8'\n",
    "    access_token = '144817473-feu73Ni9oZJ55O4H2CP7liWKJUB959zTM3Cc5lUu'\n",
    "    access_secret = 'Tr7IsVOi6dd5RTGNeAYGHAFEmiJcrOhznN3anKJM9aj64'\n",
    "\n",
    "    if \"processed-data\" in os.listdir():\n",
    "        os.chdir(\"processed-data\")\n",
    "    else:\n",
    "        os.mkdir(\"processed-data\")\n",
    "        os.chdir(\"processed-data\")\n",
    "    return fileList, consumer_key, consumer_secret, access_token, access_secret    "
   ]
  },
  {
   "cell_type": "code",
   "execution_count": 5,
   "metadata": {},
   "outputs": [],
   "source": [
    "fileList, consumer_key, consumer_secret, access_token, access_secret = loadConfig()"
   ]
  },
  {
   "cell_type": "code",
   "execution_count": 7,
   "metadata": {},
   "outputs": [],
   "source": [
    "def lookupTweets():\n",
    "    #fileList, consumer_key, consumer_secret, access_token, access_secret = loadConfig()\n",
    "    folders = os.listdir()\n",
    "    statusCount = 0\n",
    "    for folder in folders:\n",
    "        if '.' not in folder:\n",
    "            statusCount += len(os.listdir(folder))\n",
    "    os.chdir(\"../\")\n",
    "    return statusCount\n",
    "\n",
    "# Lookup tweets given the tweet id\n",
    "def tweet_text_by_id(id, consumer_key=None, consumer_secret=None, access_token=None, access_token_secret=None):\n",
    "    import tweepy\n",
    "    #fileList, consumer_key, consumer_secret, access_token, access_secret = loadConfig()\n",
    "    auth = tweepy.OAuthHandler(consumer_key, consumer_secret)\n",
    "    auth.set_access_token(access_token, access_token_secret)\n",
    "    api = tweepy.API(auth, wait_on_rate_limit=True)\n",
    "    tweet = api.get_status(id)\n",
    "    os.chdir(\"../\")\n",
    "    return tweet.text\n",
    "\n",
    "# Writing tweets to the respective files -Labelling\n",
    "def writeTweets():\n",
    "    #fileList, consumer_key, consumer_secret, access_token, access_secret = loadConfig()\n",
    "    errorFile = open('errorlog.txt', 'a')\n",
    "    for file in fileList:\n",
    "        tempFileName = file.strip().split(\":::\")\n",
    "        file = open('../raw-dataset/' + tempFileName[0] + '.xml', 'r', encoding='utf-8')\n",
    "        content = file.read()\n",
    "        file.close()\n",
    "        statusIds = re.findall('(?<=<document id=\").+?(?=\")', content, re.DOTALL)\n",
    "\n",
    "        try:\n",
    "            os.mkdir(tempFileName[1] + \"-\" + tempFileName[2])\n",
    "        except:\n",
    "            print(tempFileName[1] + \"-\" + tempFileName[2] + \" exists\")\n",
    "        os.chdir(tempFileName[1] + \"-\" + tempFileName[2])\n",
    "        for status in statusIds:\n",
    "            if status + '.txt' not in os.listdir():\n",
    "                file = open(status + '.txt', 'w', encoding='utf-8')\n",
    "                try:\n",
    "                    file.write(tweet_text_by_id(status, consumer_key, consumer_secret, access_token, access_secret))\n",
    "                    break\n",
    "                except Exception as e:\n",
    "                    errorFile.write(str(e))\n",
    "                else:\n",
    "                    file.close()\n",
    "                    print(\"Wrote \" + status)\n",
    "            else:\n",
    "                print(\"Already written \" + status)\n",
    "        os.chdir(\"../\")\n",
    "    errorFile.close()"
   ]
  },
  {
   "cell_type": "code",
   "execution_count": 8,
   "metadata": {},
   "outputs": [],
   "source": [
    "writeTweets()"
   ]
  },
  {
   "cell_type": "code",
   "execution_count": 13,
   "metadata": {},
   "outputs": [
    {
     "name": "stdout",
     "output_type": "stream",
     "text": [
      "Done.\n"
     ]
    }
   ],
   "source": [
    "import os\n",
    "import shutil\n",
    "cwd = os.getcwd()\n",
    "\n",
    "source = os.path.join(cwd, 'processed-data/')\n",
    "directory = os.path.join(cwd, 'Twitter_Simple_English/')\n",
    "if not os.path.exists(directory):\n",
    "    os.makedirs(directory)\n",
    "\n",
    "for root, dirs, files in os.walk(source):  \n",
    "    for i,file in enumerate(files):\n",
    "        path_file = os.path.join(root,file)\n",
    "        if os.path.getsize(path_file) > 0:\n",
    "            shutil.move(path_file, directory)\n",
    "shutil.rmtree(source)        \n",
    "print(\"Done.\")        "
   ]
  },
  {
   "cell_type": "markdown",
   "metadata": {},
   "source": [
    "<hr>"
   ]
  }
 ],
 "metadata": {
  "kernelspec": {
   "display_name": "Python 3",
   "language": "python",
   "name": "python3"
  },
  "language_info": {
   "codemirror_mode": {
    "name": "ipython",
    "version": 3
   },
   "file_extension": ".py",
   "mimetype": "text/x-python",
   "name": "python",
   "nbconvert_exporter": "python",
   "pygments_lexer": "ipython3",
   "version": "3.5.2"
  }
 },
 "nbformat": 4,
 "nbformat_minor": 2
}
