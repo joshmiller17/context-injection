{
 "cells": [
  {
   "cell_type": "code",
   "execution_count": 1,
   "metadata": {},
   "outputs": [
    {
     "data": {
      "text/plain": [
       "'/home/aniruddha-tapas/Desktop/Database'"
      ]
     },
     "execution_count": 1,
     "metadata": {},
     "output_type": "execute_result"
    }
   ],
   "source": [
    "import os\n",
    "cwd = os.getcwd()\n",
    "cwd"
   ]
  },
  {
   "cell_type": "code",
   "execution_count": 2,
   "metadata": {},
   "outputs": [],
   "source": [
    "def join(a, b):\n",
    "    return os.path.join(a, b)"
   ]
  },
  {
   "cell_type": "code",
   "execution_count": 3,
   "metadata": {},
   "outputs": [
    {
     "data": {
      "text/plain": [
       "'/home/aniruddha-tapas/Desktop/Database/glossaries/'"
      ]
     },
     "execution_count": 3,
     "metadata": {},
     "output_type": "execute_result"
    }
   ],
   "source": [
    "root = join(cwd, 'glossaries/')\n",
    "root"
   ]
  },
  {
   "cell_type": "code",
   "execution_count": 4,
   "metadata": {},
   "outputs": [
    {
     "data": {
      "text/plain": [
       "'/home/aniruddha-tapas/Desktop/Database/glossaries/Art_History'"
      ]
     },
     "execution_count": 4,
     "metadata": {},
     "output_type": "execute_result"
    }
   ],
   "source": [
    "folder = 'Art_History'\n",
    "g1 =  join(root, folder)\n",
    "g1"
   ]
  },
  {
   "cell_type": "code",
   "execution_count": 5,
   "metadata": {},
   "outputs": [],
   "source": [
    "glossary_content_file = folder + '.txt' \n",
    "glossary_file= 'Glossary.txt'\n",
    "\n",
    "with open(join(g1, glossary_file), 'r') as f:\n",
    "    glossary = f.readlines()"
   ]
  },
  {
   "cell_type": "code",
   "execution_count": 6,
   "metadata": {},
   "outputs": [],
   "source": [
    "glossary = [line for line in glossary if line != '\\n']"
   ]
  },
  {
   "cell_type": "code",
   "execution_count": 7,
   "metadata": {},
   "outputs": [],
   "source": [
    "glossary = [line.replace('\\n', '') for line in glossary]"
   ]
  },
  {
   "cell_type": "code",
   "execution_count": 8,
   "metadata": {},
   "outputs": [],
   "source": [
    "glossary =  [line for i, line in enumerate(glossary) if i %2 == 0]"
   ]
  },
  {
   "cell_type": "code",
   "execution_count": 9,
   "metadata": {},
   "outputs": [],
   "source": [
    "glossary = [line[:-1] for line in glossary if line[-1]==' ']"
   ]
  },
  {
   "cell_type": "code",
   "execution_count": 10,
   "metadata": {
    "scrolled": true
   },
   "outputs": [
    {
     "data": {
      "text/plain": [
       "['abstract expressionism',\n",
       " 'art deco',\n",
       " 'art nouveau',\n",
       " 'Ash Can School',\n",
       " 'Barbizon School',\n",
       " 'Baroque',\n",
       " 'Byzantine',\n",
       " 'classicism',\n",
       " 'color field painting',\n",
       " 'conceptual art',\n",
       " 'constructivism',\n",
       " 'cubism',\n",
       " 'dadaism',\n",
       " 'The Eight',\n",
       " 'expressionism',\n",
       " 'fauvism',\n",
       " 'folk',\n",
       " 'futurism',\n",
       " 'Gothic',\n",
       " 'impressionism',\n",
       " 'mannerism',\n",
       " 'minimalism',\n",
       " 'Nabis',\n",
       " 'naive art',\n",
       " 'neoclassicism',\n",
       " 'op art',\n",
       " 'photorealism',\n",
       " 'pointillism',\n",
       " 'pop art',\n",
       " 'postimpressionism',\n",
       " 'Pre-Raphaelite Brotherhood',\n",
       " 'realism',\n",
       " 'Renaissance',\n",
       " 'rococo',\n",
       " 'Romanesque',\n",
       " 'romanticism',\n",
       " 'suprematism',\n",
       " 'surrealism',\n",
       " 'symbolism']"
      ]
     },
     "execution_count": 10,
     "metadata": {},
     "output_type": "execute_result"
    }
   ],
   "source": [
    "glossary "
   ]
  },
  {
   "cell_type": "code",
   "execution_count": 11,
   "metadata": {},
   "outputs": [
    {
     "data": {
      "text/plain": [
       "39"
      ]
     },
     "execution_count": 11,
     "metadata": {},
     "output_type": "execute_result"
    }
   ],
   "source": [
    "len(glossary)"
   ]
  },
  {
   "cell_type": "code",
   "execution_count": 12,
   "metadata": {},
   "outputs": [],
   "source": [
    "with open(join(g1, glossary_file), 'w') as f:\n",
    "    for line in glossary:\n",
    "        f.write(line + '\\n')"
   ]
  },
  {
   "cell_type": "code",
   "execution_count": 13,
   "metadata": {},
   "outputs": [],
   "source": [
    "import re\n",
    "\n",
    "def replace(text, word, new_word):\n",
    "    regex = re.compile(re.escape(word), re.IGNORECASE)\n",
    "    text = regex.sub(new_word, text)\n",
    "    return text"
   ]
  },
  {
   "cell_type": "code",
   "execution_count": 14,
   "metadata": {},
   "outputs": [],
   "source": [
    "with open(join(g1, glossary_content_file), 'r') as f:\n",
    "    glossary_content = f.read()"
   ]
  },
  {
   "cell_type": "code",
   "execution_count": 15,
   "metadata": {},
   "outputs": [],
   "source": [
    "count = 0\n",
    "for jargon in glossary:\n",
    "    jargon2 = jargon\n",
    "    bolded_jargon = ' <B>'+ jargon +'</B> '\n",
    "    if jargon2 in glossary_content_file:\n",
    "        count = count + 1\n",
    "        print(count)\n",
    "    glossary_content = replace(glossary_content, jargon2, bolded_jargon)"
   ]
  },
  {
   "cell_type": "code",
   "execution_count": 16,
   "metadata": {},
   "outputs": [],
   "source": [
    "with open(join(g1, glossary_content_file), 'w') as f:\n",
    "    f.write(glossary_content)"
   ]
  }
 ],
 "metadata": {
  "kernelspec": {
   "display_name": "Python 2",
   "language": "python",
   "name": "python2"
  },
  "language_info": {
   "codemirror_mode": {
    "name": "ipython",
    "version": 3
   },
   "file_extension": ".py",
   "mimetype": "text/x-python",
   "name": "python",
   "nbconvert_exporter": "python",
   "pygments_lexer": "ipython3",
   "version": "3.5.2"
  }
 },
 "nbformat": 4,
 "nbformat_minor": 2
}
