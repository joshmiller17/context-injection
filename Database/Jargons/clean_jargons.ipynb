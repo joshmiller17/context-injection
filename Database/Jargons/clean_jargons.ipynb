{
 "cells": [
  {
   "cell_type": "code",
   "execution_count": 1,
   "metadata": {},
   "outputs": [
    {
     "data": {
      "text/plain": [
       "'/home/aniruddha-tapas/Desktop/Database'"
      ]
     },
     "execution_count": 1,
     "metadata": {},
     "output_type": "execute_result"
    }
   ],
   "source": [
    "import os\n",
    "cwd = os.getcwd()\n",
    "cwd"
   ]
  },
  {
   "cell_type": "code",
   "execution_count": 2,
   "metadata": {},
   "outputs": [],
   "source": [
    "def join(a, b):\n",
    "    return os.path.join(a, b)"
   ]
  },
  {
   "cell_type": "code",
   "execution_count": 3,
   "metadata": {},
   "outputs": [
    {
     "data": {
      "text/plain": [
       "'/home/aniruddha-tapas/Desktop/Database/glossaries/'"
      ]
     },
     "execution_count": 3,
     "metadata": {},
     "output_type": "execute_result"
    }
   ],
   "source": [
    "root = join(cwd, 'glossaries/')\n",
    "root"
   ]
  },
  {
   "cell_type": "code",
   "execution_count": 4,
   "metadata": {},
   "outputs": [
    {
     "data": {
      "text/plain": [
       "'/home/aniruddha-tapas/Desktop/Database/glossaries/Financial_Math_FM'"
      ]
     },
     "execution_count": 4,
     "metadata": {},
     "output_type": "execute_result"
    }
   ],
   "source": [
    "folder = 'Financial_Math_FM'\n",
    "g1 =  join(root, folder)\n",
    "g1"
   ]
  },
  {
   "cell_type": "code",
   "execution_count": 5,
   "metadata": {},
   "outputs": [],
   "source": [
    "glossary_content_file = folder + '.txt' \n",
    "glossary_file= 'Glossary.txt'\n",
    "\n",
    "with open(join(g1, glossary_file), 'r') as f:\n",
    "    glossary = f.readlines()"
   ]
  },
  {
   "cell_type": "code",
   "execution_count": 6,
   "metadata": {},
   "outputs": [],
   "source": [
    "glossary = [line.replace('\\n', '') for line in glossary]"
   ]
  },
  {
   "cell_type": "code",
   "execution_count": 7,
   "metadata": {},
   "outputs": [
    {
     "data": {
      "text/plain": [
       "['Accumulation function ',\n",
       " 'Accumulation of discount',\n",
       " 'American option',\n",
       " 'Amortization ',\n",
       " 'Annuity-due ',\n",
       " 'Annuity-immediate ',\n",
       " 'Arbitrage ',\n",
       " 'Arithmetic increasing/decreasing payment annuity ',\n",
       " 'Ask price ',\n",
       " 'At-the-money',\n",
       " 'Bermudan option',\n",
       " 'Bid price',\n",
       " 'Bid-ask spread ',\n",
       " 'Book value ',\n",
       " 'Call option',\n",
       " 'Callable',\n",
       " 'Cash-flow matching ',\n",
       " 'Collars (including zero-cost collars)',\n",
       " 'Compound interest ',\n",
       " 'Convertible bond',\n",
       " 'Convertible m-thly ',\n",
       " 'Convexity ',\n",
       " 'Cost of carry ',\n",
       " 'Coupon',\n",
       " 'Coupon rate ',\n",
       " 'Covered call',\n",
       " 'Credit risk ',\n",
       " 'Current value ',\n",
       " 'Deferred swap',\n",
       " 'Derivative',\n",
       " 'Discount factor ',\n",
       " 'Discount rate (rate of discount) ',\n",
       " 'Diversifiable risk',\n",
       " 'Dividends ',\n",
       " 'Dollar-weighted rate of return',\n",
       " 'Duration (Macaulay modified and effective) ',\n",
       " 'Effective rate ',\n",
       " 'Equation of value',\n",
       " 'European option',\n",
       " 'Expiration ',\n",
       " 'Expiration date ',\n",
       " 'Face value ',\n",
       " 'Final payment ',\n",
       " 'Force of interest ',\n",
       " 'Forward contract',\n",
       " 'Forward rate ',\n",
       " 'Fully leveraged purchase ',\n",
       " 'Future value ',\n",
       " 'Futures contract',\n",
       " 'Geometric increasing/decreasing payment annuity ',\n",
       " 'Hedging',\n",
       " 'Immunization ',\n",
       " 'Implied repo rate ',\n",
       " 'In-the-money',\n",
       " 'Inflation and real rate of interest',\n",
       " 'Interest',\n",
       " 'Interest rate (rate of interest)',\n",
       " 'Interest rate swap ',\n",
       " 'Lease rate ',\n",
       " 'Level payment annuity ',\n",
       " 'Long position ',\n",
       " 'Maintenance margin',\n",
       " 'Mandatorily convertible bond',\n",
       " 'Margin',\n",
       " 'Margin call',\n",
       " 'Marking-to-market ',\n",
       " 'Naked writing ',\n",
       " 'Net profit/payoff ',\n",
       " 'Nominal rate ',\n",
       " 'Nondiversifiable risk ',\n",
       " 'Notional Amount ',\n",
       " 'Out-of-the-money ',\n",
       " 'Outright purchase',\n",
       " 'Outstanding balance ',\n",
       " 'Over-the-counter market ',\n",
       " 'Par Value',\n",
       " 'Payable continuously ',\n",
       " 'Payable m-thly',\n",
       " 'Paylater strategy ',\n",
       " 'Perpetuity ',\n",
       " 'Portfolio and investment year allocation methods',\n",
       " 'Prepaid forward contract ',\n",
       " 'Prepaid swap ',\n",
       " 'Present value/net present value ',\n",
       " 'Price ',\n",
       " 'Principal ',\n",
       " 'Put option ',\n",
       " 'Put-call parity',\n",
       " 'Redemption value ',\n",
       " 'Redington immunization',\n",
       " 'Short position',\n",
       " 'Short selling',\n",
       " 'Simple commodity swap',\n",
       " 'Simple interest ',\n",
       " 'Sinking fund ',\n",
       " 'Spot price ',\n",
       " 'Spot rate ',\n",
       " 'Spreads ',\n",
       " 'Stock index ',\n",
       " 'Stock price',\n",
       " 'Straddles (including strangles written straddles and butterfly spreads) ',\n",
       " 'Strike price/Exercise price ',\n",
       " 'Swap',\n",
       " 'Swap spread',\n",
       " 'Swap term',\n",
       " 'Synthetic forwards ',\n",
       " 'Term of annuity ',\n",
       " 'Term of bond ',\n",
       " 'Term of loan ',\n",
       " 'Time-weighted rate of return ',\n",
       " 'Underlying asset',\n",
       " 'Yield curve ',\n",
       " 'Yield rate',\n",
       " 'Yield rate ',\n",
       " 'balloon payment ',\n",
       " 'bear',\n",
       " 'box',\n",
       " 'bull',\n",
       " 'drop payment',\n",
       " 'full immunization',\n",
       " 'future value',\n",
       " 'non-callable ',\n",
       " 'present value',\n",
       " 'rate of return ',\n",
       " 'ratio spreads',\n",
       " 'stock dividend',\n",
       " '']"
      ]
     },
     "execution_count": 7,
     "metadata": {},
     "output_type": "execute_result"
    }
   ],
   "source": [
    "glossary "
   ]
  },
  {
   "cell_type": "code",
   "execution_count": 8,
   "metadata": {},
   "outputs": [],
   "source": [
    "with open(join(g1, glossary_content_file), 'r') as f:\n",
    "    glossary_content = f.read()"
   ]
  },
  {
   "cell_type": "code",
   "execution_count": 9,
   "metadata": {},
   "outputs": [
    {
     "data": {
      "text/plain": [
       "127"
      ]
     },
     "execution_count": 9,
     "metadata": {},
     "output_type": "execute_result"
    }
   ],
   "source": [
    "len(glossary)"
   ]
  },
  {
   "cell_type": "code",
   "execution_count": 10,
   "metadata": {},
   "outputs": [
    {
     "name": "stdout",
     "output_type": "stream",
     "text": [
      "15\n"
     ]
    }
   ],
   "source": [
    "count = 0\n",
    "for jargon in glossary:\n",
    "    if not jargon in glossary_content:\n",
    "        glossary.remove(jargon)\n",
    "    else:\n",
    "        count += 1\n",
    "print(count)"
   ]
  },
  {
   "cell_type": "code",
   "execution_count": 11,
   "metadata": {},
   "outputs": [
    {
     "data": {
      "text/plain": [
       "71"
      ]
     },
     "execution_count": 11,
     "metadata": {},
     "output_type": "execute_result"
    }
   ],
   "source": [
    "len(glossary)"
   ]
  },
  {
   "cell_type": "code",
   "execution_count": 12,
   "metadata": {},
   "outputs": [],
   "source": [
    "with open(join(g1, glossary_file), 'w') as f:\n",
    "    for line in glossary:\n",
    "        f.write(line + '\\n')"
   ]
  }
 ],
 "metadata": {
  "kernelspec": {
   "display_name": "Python 2",
   "language": "python",
   "name": "python2"
  },
  "language_info": {
   "codemirror_mode": {
    "name": "ipython",
    "version": 3
   },
   "file_extension": ".py",
   "mimetype": "text/x-python",
   "name": "python",
   "nbconvert_exporter": "python",
   "pygments_lexer": "ipython3",
   "version": "3.5.2"
  }
 },
 "nbformat": 4,
 "nbformat_minor": 2
}
